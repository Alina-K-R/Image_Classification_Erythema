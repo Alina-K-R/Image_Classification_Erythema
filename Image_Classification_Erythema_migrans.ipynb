{
 "cells": [
  {
   "cell_type": "markdown",
   "metadata": {
    "gradient": {
     "editing": false
    }
   },
   "source": [
    "# Deep Learning: Image Classification of Erythema\n",
    "## Distinguishing between Erythema migrans (Lyme Disease rashes) and other rashes using a neural network"
   ]
  },
  {
   "cell_type": "markdown",
   "metadata": {},
   "source": [
    "### Contents:\n",
    "- [Introduction and relevance of the topic](#intro)\n",
    "- [Aim of the model](#aim)\n",
    "- [Installation of libraries, imports & credits](#installation)\n",
    "- [Dataset](#dataset)\n",
    "- [Buildung the neural network using transfer learning](#building_model)\n",
    "- [Evaluation of the model](#eval)\n",
    "- [Predictions](#predictions)\n",
    "- [Limitations](#limitations)\n",
    "- [Conclusion](#conclusion)\n",
    "- [Bibliography](#bibliography)"
   ]
  },
  {
   "cell_type": "markdown",
   "metadata": {
    "heading_collapsed": true
   },
   "source": [
    "## Introduction and relevance of the topic <a name=\"intro\"></a>"
   ]
  },
  {
   "cell_type": "markdown",
   "metadata": {
    "gradient": {
     "editing": false
    },
    "hidden": true
   },
   "source": [
    "Coming from a medical background, I am  aware of the dangerous form of rashes originating from tick bites (erythema migrans), especially during the summer, and know what to look out for. I imagine that for people without this background, it is a lot more difficult to distinguish between a harmless rash and a possibly dangerous one. If medical services cannot easily be consulted, this can pose a problem."
   ]
  },
  {
   "cell_type": "markdown",
   "metadata": {
    "gradient": {
     "editing": false
    },
    "hidden": true
   },
   "source": [
    "**Epidemiology and Symptomatology**\n",
    "\n",
    "In Germany, 10% of nymphs (ticks at a young stage) and 10-40% of grown ticks carry borrelia. After the bite of an infected tick, an infection results in 10-20% of cases (IMD Labor Berlin 2018). The exact incidence of borreliosis in Germany is not known as numbers vary between studies.There are also geographical and seasonal differences with higher occurences from June to August (Robert Koch Institut 2019).\n",
    "\n",
    "Many tick bites remain unnoticed, especially in cases of nymphs, who are responsible for the major part of infections (IMD Labor Berlin 2018). After the bite, it takes about 1-2 days until the borrelia are transmitted (Robert Koch Institut, 2020). Infections can be asymptomatic or symptomatic (borreliosis). Symptomatic cases manifest themselves with an erythema migrans in 60-80%, starting 2-40 days after the tick bite. The reddening of the skin typically spreads outwards, with a prominent border. However, the morphology can vary (IMD Labor Berlin 2018). For laymen, it can be difficult to recognize."
   ]
  },
  {
   "cell_type": "markdown",
   "metadata": {
    "gradient": {
     "editing": false
    },
    "hidden": true
   },
   "source": [
    "<img src=https://upload.wikimedia.org/wikipedia/commons/thumb/0/01/Erythema_migrans_-_erythematous_rash_in_Lyme_disease_-_PHIL_9875.jpg/204px-Erythema_migrans_-_erythematous_rash_in_Lyme_disease_-_PHIL_9875.jpg align=center>"
   ]
  },
  {
   "cell_type": "markdown",
   "metadata": {
    "gradient": {
     "editing": false
    },
    "hidden": true
   },
   "source": [
    "**Differential diagnoses<br>**\n",
    "The following diseases should be considered as differential diagnoses:\n",
    "- erisypelas\n",
    "- bite of other insects or unspecific reaction to the tick bite\n",
    "- tinea corporis\n",
    "- drug eruption\n",
    "- granulma anulare\n",
    "- urticaria\n",
    "- initial stage of systemic scleroderma\n",
    "- fifth disease<br>\n",
    "(IMD Labor Berlin 2018; Robert Koch Institut 2019)\n",
    "\n",
    "Images of a few sample differential diagnoses:\n",
    "<table>\n",
    "    <tr><td style=\"text-align: center\">Erysipelas</td>\n",
    "        <td style=\"text-align: center\">Tinea corporis</td>\n",
    "        <td style=\"text-align: center\">Urticaria</td>\n",
    "    </tr>\n",
    "    <tr><td><img src=https://www.wundwissen.info/app/uploads/2018/04/Erysipel.jpg width=\"250\"></td>\n",
    "        <td><img src=https://images.saymedia-content.com/.image/t_share/MTc2NDU0MDU2NTUyOTAwNTcw/tinea-corporis.jpg width=\"200\"></td>\n",
    "        <td><img src=https://derma.plus/media/nesselsucht-urtikaria-quaddeln.jpg width=\"250\"></td>\n",
    "    </tr>\n",
    "</table>"
   ]
  },
  {
   "cell_type": "markdown",
   "metadata": {
    "hidden": true
   },
   "source": [
    "**Treatment**\n",
    "\n",
    "An antibiotic treatment is necessary (usually doxycyclin or amoxicillin per os). If patients are treated at an early stage, it is probable that they recover fully without any severe courses of the disease or later manifestations (Robert Koch Institut 2019).\n",
    "\n",
    "Without adequate treatment, it is possible that the borrelia spread throughout the body and affect the central nervous system, joints and eyes with the possibility of long-term damages (IMD Labor Berlin 2018).\n",
    "\n",
    "Infections with borrelia do not leave the patients with an immunity. Hence, re-infections are possible. Also, there is currently no vaccine against borrelia (IMD Labor Berlin 2018). Therefore, prevention and recognition in early stages of the disease and thus early treatment are important."
   ]
  },
  {
   "cell_type": "markdown",
   "metadata": {
    "heading_collapsed": true
   },
   "source": [
    "## Aim of the model <a name=\"aim\"></a>"
   ]
  },
  {
   "cell_type": "markdown",
   "metadata": {
    "hidden": true
   },
   "source": [
    "The importance of the early recognition of erythema migrans has been explained above. In the process of finding the correct diagnosis, it is also necessary to distinguish the skin condition from other diseases (see differential diagnoses).\n",
    "\n",
    "The goal is to build an image classification model that could predict the diagnosis of a skin disease. There are four classes in the model that are trained and can be predicted: erythema migrans, erysipelas, tinea corporis and urticaria. The latter three represent some of the differential diagnoses of erythema migrans.\n",
    "\n",
    "Initially, a fifth class (insect bites) was included in the model. Due to a lack of images in this category, leading to a pronounced imbalance in the dataset, this category was excluded.\n",
    "\n",
    "The target audience of such a model would be people without any medical background knowledge. A model like this would be intended to serve as a first screening if the services of the general practioner are not available (e.g. on weekends). If the model screens positive for an erythema migrans, people should refer to an emergency practice to confirm the diagnosis and, if confirmed, to receive a prescription for antibiotic treatment.\n",
    "\n",
    "The use case would thus be avoiding the overlooking of erythema rashes or mistaking them for unproblematic rashes in laymen when low-threshold medical services are not readily available."
   ]
  },
  {
   "cell_type": "markdown",
   "metadata": {
    "heading_collapsed": true
   },
   "source": [
    "## Installation of libraries, imports & credits <a name=\"installation\"></a>"
   ]
  },
  {
   "cell_type": "markdown",
   "metadata": {
    "hidden": true
   },
   "source": [
    "The method for downloading the images and the creation of the neural network for image classification are largely based on the guidance of the fast.ai course (https://course.fast.ai/) and book (Howard, Jeremy, and Sylvain Gugger. Deep Learning for Coders with fastai and PyTorch. O'Reilly Media, 2020)."
   ]
  },
  {
   "cell_type": "code",
   "execution_count": 4,
   "metadata": {
    "gradient": {},
    "hidden": true
   },
   "outputs": [],
   "source": [
    "# Installing libraries\n",
    "\n",
    "# !pip install torch\n",
    "# !pip install fastai\n",
    "# !pip install utils\n",
    "# !pip install jmd_imagescraper\n",
    "# !pip install split-folders\n",
    "# !pip install jupyter_contrib_nbextensions # for collapsable headings\n",
    "# !pip install disarray"
   ]
  },
  {
   "cell_type": "code",
   "execution_count": 5,
   "metadata": {
    "gradient": {},
    "hidden": true
   },
   "outputs": [],
   "source": [
    "# importing modules\n",
    "\n",
    "from fastai.vision.all import *\n",
    "from fastai.vision.widgets import *\n",
    "import disarray\n",
    "import matplotlib.pyplot as plt\n",
    "import pandas as pd\n",
    "import PIL\n",
    "import os\n",
    "import shutil\n",
    "from utils import *"
   ]
  },
  {
   "cell_type": "markdown",
   "metadata": {
    "heading_collapsed": true
   },
   "source": [
    "## Dataset <a name=\"dataset\"></a>"
   ]
  },
  {
   "cell_type": "markdown",
   "metadata": {
    "heading_collapsed": true,
    "hidden": true
   },
   "source": [
    "### Downloading the images"
   ]
  },
  {
   "cell_type": "markdown",
   "metadata": {
    "hidden": true
   },
   "source": [
    "The dataset was created by means of downloading images from a duckduckgo search."
   ]
  },
  {
   "cell_type": "code",
   "execution_count": null,
   "metadata": {
    "code_folding": [
     2
    ],
    "gradient": {},
    "hidden": true
   },
   "outputs": [],
   "source": [
    "# method from fastai to download images from a duckduckgo search, modified according to https://forums.fast.ai/t/duck-duck-go-code-not-working/85287/7 because of error message\n",
    "\n",
    "def search_images_ddg_corrected(term, max_images=200):\n",
    "    \"Search for `term` with DuckDuckGo and return a unique urls of about `max_images` images\"\n",
    "    assert max_images<1000\n",
    "    url = 'https://duckduckgo.com/'\n",
    "    res = urlread(url,data={'q':term}, decode=true)\n",
    "    searchObj = re.search(r'vqd=([\\d-]+)\\&', res)\n",
    "    assert searchObj\n",
    "    requestUrl = url + 'i.js'\n",
    "    params = dict(l='us-en', o='json', q=term, vqd=searchObj.group(1), f=',,,', p='1', v7exp='a')\n",
    "    urls,data = set(),{'next':1}\n",
    "    while len(urls)<max_images and 'next' in data:\n",
    "        try:\n",
    "            data = urljson(requestUrl,data=params)\n",
    "            urls.update(L(data['results']).itemgot('image'))\n",
    "            requestUrl = url + data['next']\n",
    "        except (URLError,HTTPError): pass\n",
    "        time.sleep(0.2)\n",
    "    return L(urls)"
   ]
  },
  {
   "cell_type": "code",
   "execution_count": null,
   "metadata": {
    "gradient": {},
    "hidden": true
   },
   "outputs": [],
   "source": [
    "# saving the diseases with respective search terms / synonyms in a python dictionary\n",
    "\n",
    "rashes = { \"erythema_migrans\" : [\"Erythema migrans\", \"Borreliose\", \"lyme disease\"],\n",
    "         \"erysipelas\" : [\"Erysipel\", \"erysipelas\"],\n",
    "         \"tinea_corporis\" : [\"tinea corporis\", \"Ringelflechte\", \"ringworm\"],\n",
    "         \"insect_bite\" : [\"mosquito bite\", \"Insektenstich\", \"Mückenstich\"],\n",
    "         \"urticaria\" : [\"urticaria\", \"hives\", \"Urtikaria\", \"Nesselsucht\"]}\n",
    "path = Path(\"rash\")"
   ]
  },
  {
   "cell_type": "code",
   "execution_count": null,
   "metadata": {
    "gradient": {},
    "hidden": true
   },
   "outputs": [],
   "source": [
    "# iterating through dictionary to perform image web searches on all terms\n",
    "\n",
    "if not path.exists():\n",
    "    path.mkdir()\n",
    "    for r in rashes:\n",
    "        dest = (path/str(r))\n",
    "        dest.mkdir(exist_ok=True)\n",
    "        for i in rashes[r]:\n",
    "            urls = search_images_ddg_corrected(i, max_images=300)\n",
    "            download_images(dest, urls=urls)"
   ]
  },
  {
   "cell_type": "code",
   "execution_count": null,
   "metadata": {
    "gradient": {},
    "hidden": true
   },
   "outputs": [
    {
     "data": {
      "text/plain": [
       "(#2218) [Path('rash/erysipelas/00000000.jpg'),Path('rash/erysipelas/00000001.jpg'),Path('rash/erysipelas/00000002.jpg'),Path('rash/erysipelas/00000003.jpg'),Path('rash/erysipelas/00000004.jpeg'),Path('rash/erysipelas/00000004.jpg'),Path('rash/erysipelas/00000005.jpg'),Path('rash/erysipelas/00000006.jpg'),Path('rash/erysipelas/00000007.jpg'),Path('rash/erysipelas/00000008.jpg')...]"
      ]
     },
     "execution_count": 51,
     "metadata": {},
     "output_type": "execute_result"
    }
   ],
   "source": [
    "# number of images that were downloaded in total\n",
    "fns = get_image_files(path)\n",
    "fns"
   ]
  },
  {
   "cell_type": "code",
   "execution_count": null,
   "metadata": {
    "gradient": {},
    "hidden": true
   },
   "outputs": [
    {
     "data": {
      "text/plain": [
       "(#47) [Path('rash/erysipelas/00000004.jpg'),Path('rash/erysipelas/00000065.jpg'),Path('rash/erysipelas/00000094.jpg'),Path('rash/erysipelas/00000207.jpg'),Path('rash/erysipelas/00000262.jpg'),Path('rash/erysipelas/00000293.jpg'),Path('rash/erythema_migrans/00000005.jpg'),Path('rash/erythema_migrans/00000024.jpg'),Path('rash/erythema_migrans/00000042.svg'),Path('rash/erythema_migrans/00000061.jpg')...]"
      ]
     },
     "execution_count": 52,
     "metadata": {},
     "output_type": "execute_result"
    }
   ],
   "source": [
    "failed = verify_images(fns)\n",
    "failed"
   ]
  },
  {
   "cell_type": "code",
   "execution_count": null,
   "metadata": {
    "gradient": {},
    "hidden": true
   },
   "outputs": [
    {
     "data": {
      "text/plain": [
       "(#47) [None,None,None,None,None,None,None,None,None,None...]"
      ]
     },
     "execution_count": 54,
     "metadata": {},
     "output_type": "execute_result"
    }
   ],
   "source": [
    "failed.map(Path.unlink)"
   ]
  },
  {
   "cell_type": "code",
   "execution_count": null,
   "metadata": {
    "gradient": {},
    "hidden": true
   },
   "outputs": [
    {
     "name": "stdout",
     "output_type": "stream",
     "text": [
      "Number of images per category before cleaning:\n",
      "erysipelas           384\n",
      "erythema_migrans     492\n",
      "insect_bite          399\n",
      "tinea_corporis       434\n",
      "urticaria            479\n"
     ]
    }
   ],
   "source": [
    "# number of images before cleaning of data\n",
    "print(\"Number of images per category before cleaning:\")\n",
    "for filename in os.listdir(path):\n",
    "    print(\"{:<20} {}\".format(filename, len(os.listdir(path/filename))))"
   ]
  },
  {
   "cell_type": "markdown",
   "metadata": {
    "hidden": true
   },
   "source": [
    "|Before cleaning:|Number of images per category|\n",
    "|---|---|\n",
    "|erysipelas|           384|\n",
    "|erythema_migrans|     492|\n",
    "|insect_bite|          399|\n",
    "|tinea_corporis|       434|\n",
    "|urticaria|            479|"
   ]
  },
  {
   "cell_type": "markdown",
   "metadata": {
    "heading_collapsed": true,
    "hidden": true
   },
   "source": [
    "### Data Cleaning"
   ]
  },
  {
   "cell_type": "markdown",
   "metadata": {
    "heading_collapsed": true,
    "hidden": true
   },
   "source": [
    "#### Removing Duplicates"
   ]
  },
  {
   "cell_type": "code",
   "execution_count": null,
   "metadata": {
    "code_folding": [],
    "gradient": {},
    "hidden": true
   },
   "outputs": [
    {
     "name": "stderr",
     "output_type": "stream",
     "text": [
      "2021-05-15 16:41:19,066: INFO Start: Calculating hashes...\n",
      "\n",
      "  0%|                                                                                          | 0/384 [00:00<?, ?it/s]\u001b[A\n",
      "  0%|▏                                                                                 | 1/384 [00:03<21:33,  3.38s/it]\u001b[A\n",
      " 26%|█████████████████████                                                           | 101/384 [00:03<11:09,  2.37s/it]\u001b[A\n",
      "100%|████████████████████████████████████████████████████████████████████████████████| 384/384 [00:04<00:00, 94.33it/s]\u001b[A\n",
      "2021-05-15 16:41:23,477: INFO End: Calculating hashes!\n",
      "2021-05-15 16:41:23,485: INFO Start: Evaluating hamming distances for getting duplicates\n",
      "2021-05-15 16:41:23,485: INFO Start: Retrieving duplicates using BKTree algorithm\n",
      "\n",
      "  0%|                                                                                          | 0/383 [00:00<?, ?it/s]\u001b[A\n",
      "100%|███████████████████████████████████████████████████████████████████████████████| 383/383 [00:02<00:00, 136.24it/s]\u001b[A\n",
      "2021-05-15 16:41:26,677: INFO End: Retrieving duplicates using BKTree algorithm\n",
      "2021-05-15 16:41:26,677: INFO End: Evaluating hamming distances for getting duplicates\n",
      "2021-05-15 16:41:26,685: INFO Start: Calculating hashes...\n",
      "\n",
      "  0%|                                                                                          | 0/492 [00:00<?, ?it/s]\u001b[A\n",
      "  0%|▏                                                                                 | 1/492 [00:04<34:58,  4.27s/it]\u001b[A\n",
      " 21%|████████████████▍                                                               | 101/492 [00:04<19:30,  2.99s/it]\u001b[A\n",
      "100%|████████████████████████████████████████████████████████████████████████████████| 492/492 [00:06<00:00, 79.15it/s]\u001b[A\n",
      "2021-05-15 16:41:33,336: INFO End: Calculating hashes!\n",
      "2021-05-15 16:41:33,344: INFO Start: Evaluating hamming distances for getting duplicates\n",
      "2021-05-15 16:41:33,344: INFO Start: Retrieving duplicates using BKTree algorithm\n",
      "\n",
      "  0%|                                                                                          | 0/488 [00:00<?, ?it/s]\u001b[A\n",
      "  0%|▏                                                                                 | 1/488 [00:03<24:22,  3.00s/it]\u001b[A\n",
      " 62%|█████████████████████████████████████████████████▎                              | 301/488 [00:03<06:32,  2.10s/it]\u001b[A\n",
      "100%|███████████████████████████████████████████████████████████████████████████████| 488/488 [00:03<00:00, 127.68it/s]\u001b[A\n",
      "2021-05-15 16:41:37,528: INFO End: Retrieving duplicates using BKTree algorithm\n",
      "2021-05-15 16:41:37,528: INFO End: Evaluating hamming distances for getting duplicates\n",
      "2021-05-15 16:41:37,538: INFO Start: Calculating hashes...\n",
      "\n",
      "  0%|                                                                                          | 0/399 [00:00<?, ?it/s]\u001b[A\n",
      "  0%|▏                                                                                 | 1/399 [00:03<23:14,  3.50s/it]\u001b[A\n",
      " 50%|████████████████████████████████████████▎                                       | 201/399 [00:03<08:05,  2.45s/it]\u001b[A\n",
      "100%|████████████████████████████████████████████████████████████████████████████████| 399/399 [00:04<00:00, 86.14it/s]\u001b[A\n",
      "2021-05-15 16:41:42,498: INFO End: Calculating hashes!\n",
      "2021-05-15 16:41:42,498: INFO Start: Evaluating hamming distances for getting duplicates\n",
      "2021-05-15 16:41:42,498: INFO Start: Retrieving duplicates using BKTree algorithm\n",
      "\n",
      "  0%|                                                                                          | 0/394 [00:00<?, ?it/s]\u001b[A\n",
      "100%|███████████████████████████████████████████████████████████████████████████████| 394/394 [00:03<00:00, 124.44it/s]\u001b[A\n",
      "2021-05-15 16:41:46,169: INFO End: Retrieving duplicates using BKTree algorithm\n",
      "2021-05-15 16:41:46,169: INFO End: Evaluating hamming distances for getting duplicates\n",
      "2021-05-15 16:41:46,189: INFO Start: Calculating hashes...\n",
      "\n",
      "  0%|                                                                                          | 0/434 [00:00<?, ?it/s]\u001b[A\n",
      "  0%|▏                                                                                 | 1/434 [00:03<26:35,  3.68s/it]\u001b[A\n",
      " 23%|██████████████████▌                                                             | 101/434 [00:04<14:19,  2.58s/it]\u001b[A\n",
      " 69%|███████████████████████████████████████████████████████▍                        | 301/434 [00:04<04:00,  1.81s/it]\u001b[A\n",
      "100%|████████████████████████████████████████████████████████████████████████████████| 434/434 [00:04<00:00, 94.08it/s]\u001b[A\n",
      "2021-05-15 16:41:51,312: INFO End: Calculating hashes!\n",
      "2021-05-15 16:41:51,316: INFO Start: Evaluating hamming distances for getting duplicates\n",
      "2021-05-15 16:41:51,317: INFO Start: Retrieving duplicates using BKTree algorithm\n",
      "\n",
      "  0%|                                                                                          | 0/431 [00:00<?, ?it/s]\u001b[A\n",
      "  0%|▏                                                                                 | 1/431 [00:03<22:18,  3.11s/it]\u001b[A\n",
      " 70%|███████████████████████████████████████████████████████▊                        | 301/431 [00:03<04:43,  2.18s/it]\u001b[A\n",
      "100%|███████████████████████████████████████████████████████████████████████████████| 431/431 [00:03<00:00, 124.78it/s]\u001b[A\n",
      "2021-05-15 16:41:55,188: INFO End: Retrieving duplicates using BKTree algorithm\n",
      "2021-05-15 16:41:55,188: INFO End: Evaluating hamming distances for getting duplicates\n",
      "2021-05-15 16:41:55,199: INFO Start: Calculating hashes...\n",
      "\n",
      "  0%|                                                                                          | 0/479 [00:00<?, ?it/s]\u001b[A\n",
      "  0%|▏                                                                                 | 1/479 [00:03<28:42,  3.60s/it]\u001b[A\n",
      "100%|███████████████████████████████████████████████████████████████████████████████| 479/479 [00:03<00:00, 122.67it/s]\u001b[A\n",
      "2021-05-15 16:41:59,498: INFO End: Calculating hashes!\n",
      "2021-05-15 16:41:59,498: INFO Start: Evaluating hamming distances for getting duplicates\n",
      "2021-05-15 16:41:59,498: INFO Start: Retrieving duplicates using BKTree algorithm\n",
      "\n",
      "  0%|                                                                                          | 0/479 [00:00<?, ?it/s]\u001b[A\n",
      "  0%|▏                                                                                 | 1/479 [00:03<26:17,  3.30s/it]\u001b[A\n",
      " 42%|█████████████████████████████████▌                                              | 201/479 [00:03<10:42,  2.31s/it]\u001b[A\n",
      "100%|███████████████████████████████████████████████████████████████████████████████| 479/479 [00:04<00:00, 118.92it/s]\u001b[A\n",
      "2021-05-15 16:42:03,924: INFO End: Retrieving duplicates using BKTree algorithm\n",
      "2021-05-15 16:42:03,924: INFO End: Evaluating hamming distances for getting duplicates\n"
     ]
    }
   ],
   "source": [
    "# removing duplicate images using the package imagededup (https://github.com/idealo/imagededup)\n",
    "#!pip install imagededup\n",
    "\n",
    "from imagededup.methods import PHash\n",
    "phasher = PHash()\n",
    "\n",
    "duplicates = dict()\n",
    "\n",
    "for i in os.listdir(path):\n",
    "    # Generate encodings for all images in an image directory\n",
    "    encodings = phasher.encode_images(image_dir='rash/'+i)\n",
    "    # Find duplicates using the generated encodings\n",
    "    duplicates[i] = phasher.find_duplicates(encoding_map=encodings)"
   ]
  },
  {
   "cell_type": "code",
   "execution_count": null,
   "metadata": {
    "gradient": {},
    "hidden": true
   },
   "outputs": [
    {
     "data": {
      "text/plain": [
       "{'erysipelas': {'00000000.jpg': [],\n",
       "  '00000001.jpg': [],\n",
       "  '00000002.jpg': [],\n",
       "  '00000003.jpg': [],\n",
       "  '00000004.jpeg': [],\n",
       "  '00000005.jpg': [],\n",
       "  '00000006.jpg': ['00000133.jpg'],\n",
       "  '00000007.jpg': [],\n",
       "  '00000008.jpg': [],\n",
       "  '00000009.jpg': [],\n",
       "  '00000010.jpg': [],\n",
       "  '00000011.jpg': ['00000254.jpg'],\n",
       "  '00000012.jpg': ['00000321.jpg'],\n",
       "  '00000013.jpg': [],\n",
       "  '00000014.jpg': ['00000145.jpg'],\n",
       "  '00000015.jpg': ['00000081.jpg', '00000161.jpg'],\n",
       "  '00000016.jpg': ['00000200.jpg', '00000214.jpg'],\n",
       "  '00000017.gif': [],\n",
       "  '00000017.jpg': [],\n",
       "  '00000018.jpeg': [],\n",
       "  '00000018.jpg': ['00000132.gif'],\n",
       "  '00000019.jpg': ['00000084.jpg'],\n",
       "  '00000020.jpg': [],\n",
       "  '00000021.jpg': [],\n",
       "  '00000022.jpg': [],\n",
       "  '00000023.jpg': [],\n",
       "  '00000024.jpg': ['00000197.jpg', '00000320.jpg'],\n",
       "  '00000024.png': [],\n",
       "  '00000025.jpg': [],\n",
       "  '00000026.jpg': [],\n",
       "  '00000027.jpg': [],\n",
       "  '00000028.jpg': ['00000128.jpg'],\n",
       "  '00000030.jpg': [],\n",
       "  '00000031.jpg': ['00000139.jpg',\n",
       "   '00000208.jpg',\n",
       "   '00000312.jpg',\n",
       "   '00000315.jpg'],\n",
       "  '00000031.jpg&id=20879': [],\n",
       "  '00000032.jpg': [],\n",
       "  '00000033.jpg': ['00000189.jpg', '00000135.jpg'],\n",
       "  '00000034.jpg': [],\n",
       "  '00000034.png': [],\n",
       "  '00000035.jpg': [],\n",
       "  '00000036.jpg': ['00000055.jpg'],\n",
       "  '00000037.jpg': ['00000160.jpg'],\n",
       "  '00000038.jpg': [],\n",
       "  '00000039.jpg': [],\n",
       "  '00000041.jpeg': [],\n",
       "  '00000041.jpg': ['00000131.jpg'],\n",
       "  '00000042.jpg': ['00000111.jpg'],\n",
       "  '00000043.jpg': [],\n",
       "  '00000044.jpg': [],\n",
       "  '00000045.jpg': ['00000204.jpg'],\n",
       "  '00000046.jpg': ['00000050.jpg'],\n",
       "  '00000047.jpg': ['00000158.jpg'],\n",
       "  '00000048.jpg': [],\n",
       "  '00000049.jpg': [],\n",
       "  '00000050.jpg': ['00000046.jpg'],\n",
       "  '00000051.jpg': [],\n",
       "  '00000051.png': [],\n",
       "  '00000052.jpg': [],\n",
       "  '00000053.jpg': ['00000150.jpg'],\n",
       "  '00000054.jpg': [],\n",
       "  '00000055.jpg': ['00000036.jpg'],\n",
       "  '00000056.jpg': [],\n",
       "  '00000057.jpg': [],\n",
       "  '00000057.png': [],\n",
       "  '00000058.jpg': [],\n",
       "  '00000059.jpg': [],\n",
       "  '00000060.jpg': [],\n",
       "  '00000061.jpg': [],\n",
       "  '00000062.jpg': [],\n",
       "  '00000063.jpg': [],\n",
       "  '00000064.jpg': [],\n",
       "  '00000066.jpg': [],\n",
       "  '00000067.jpg': [],\n",
       "  '00000068.jpg': ['00000333.jpg'],\n",
       "  '00000069.JPG': [],\n",
       "  '00000070.jpg': [],\n",
       "  '00000071.jpg': [],\n",
       "  '00000072.jpg': [],\n",
       "  '00000073.jpg': [],\n",
       "  '00000074.jpg': ['00000174.jpg'],\n",
       "  '00000075.jpg': [],\n",
       "  '00000076.jpg': [],\n",
       "  '00000077.jpg': ['00000083.jpg'],\n",
       "  '00000078.jpg': [],\n",
       "  '00000078.png': [],\n",
       "  '00000079.jpg': [],\n",
       "  '00000080.jpg': [],\n",
       "  '00000081.jpg': ['00000015.jpg', '00000161.jpg'],\n",
       "  '00000082.jpg': [],\n",
       "  '00000082.png': [],\n",
       "  '00000083.jpg': ['00000077.jpg'],\n",
       "  '00000084.jpg': ['00000019.jpg'],\n",
       "  '00000085.jpg': [],\n",
       "  '00000086.gif': [],\n",
       "  '00000086.jpg': [],\n",
       "  '00000087.jpg': [],\n",
       "  '00000088.jpg': [],\n",
       "  '00000088.png': ['00000275.png'],\n",
       "  '00000089.jpg': [],\n",
       "  '00000090.jpg': [],\n",
       "  '00000091.jpg': [],\n",
       "  '00000092.jpg': [],\n",
       "  '00000092.png': ['00000314.jpg', '00000237.jpg'],\n",
       "  '00000093.jpg': [],\n",
       "  '00000094.png': ['00000187.png'],\n",
       "  '00000095.jpg': [],\n",
       "  '00000096.png': [],\n",
       "  '00000097.jpg': [],\n",
       "  '00000097.png': [],\n",
       "  '00000098.jpg': ['00000276.jpg'],\n",
       "  '00000099.jpg': ['00000229.jpg'],\n",
       "  '00000100.jpg': [],\n",
       "  '00000101.jpg': [],\n",
       "  '00000102.jpg': [],\n",
       "  '00000103.jpg': [],\n",
       "  '00000104.jpg': [],\n",
       "  '00000105.jpg': [],\n",
       "  '00000105.ppm': [],\n",
       "  '00000107.jpg': [],\n",
       "  '00000108.jpg': ['00000155.jpg'],\n",
       "  '00000109.jpg': [],\n",
       "  '00000110.jpg': ['00000308.jpg'],\n",
       "  '00000111.jpg': ['00000042.jpg'],\n",
       "  '00000112.jpg': [],\n",
       "  '00000113.jpg': [],\n",
       "  '00000114.jpg': [],\n",
       "  '00000115.jpg': [],\n",
       "  '00000115.png': [],\n",
       "  '00000116.jpg': [],\n",
       "  '00000117.jpg': [],\n",
       "  '00000118.jpg': [],\n",
       "  '00000119.jpg': [],\n",
       "  '00000120.jpg': ['00000206.jpg', '00000166.jpg'],\n",
       "  '00000121.jpg': [],\n",
       "  '00000122.jpg': ['00000279.jpg'],\n",
       "  '00000123.jpg': [],\n",
       "  '00000124.jpg': [],\n",
       "  '00000125.gif': [],\n",
       "  '00000125.jpg': [],\n",
       "  '00000126.jpg': [],\n",
       "  '00000127.jpg': [],\n",
       "  '00000128.jpg': ['00000028.jpg'],\n",
       "  '00000129.jpg': [],\n",
       "  '00000130.jpg': [],\n",
       "  '00000131.jpg': ['00000041.jpg'],\n",
       "  '00000132.gif': ['00000018.jpg'],\n",
       "  '00000132.jpg': [],\n",
       "  '00000133.jpg': ['00000006.jpg'],\n",
       "  '00000134.jpg': ['00000194.jpg'],\n",
       "  '00000135.jpg': ['00000033.jpg', '00000189.jpg'],\n",
       "  '00000136.jpg': [],\n",
       "  '00000137.jpg': [],\n",
       "  '00000138.jpg': [],\n",
       "  '00000139.jpg': ['00000031.jpg',\n",
       "   '00000208.jpg',\n",
       "   '00000312.jpg',\n",
       "   '00000315.jpg'],\n",
       "  '00000140.jpg': ['00000299.jpg'],\n",
       "  '00000141.jpeg': [],\n",
       "  '00000141.png': ['00000171.png'],\n",
       "  '00000142.gif': [],\n",
       "  '00000142.jpeg': [],\n",
       "  '00000143.jpg': [],\n",
       "  '00000144.jpg': [],\n",
       "  '00000145.jpg': ['00000014.jpg'],\n",
       "  '00000146.jpg': ['00000310.jpg'],\n",
       "  '00000147.jpg': [],\n",
       "  '00000148.jpg': ['00000337.jpg'],\n",
       "  '00000149.jpg': [],\n",
       "  '00000150.jpg': ['00000053.jpg'],\n",
       "  '00000151.jpg': [],\n",
       "  '00000152.jpg': [],\n",
       "  '00000152.png': [],\n",
       "  '00000154.jpg': [],\n",
       "  '00000155.jpg': ['00000108.jpg'],\n",
       "  '00000156.JPG': [],\n",
       "  '00000157.jpg': [],\n",
       "  '00000158.jpg': ['00000047.jpg'],\n",
       "  '00000159.jpg': [],\n",
       "  '00000160.jpg': ['00000037.jpg'],\n",
       "  '00000160.png': [],\n",
       "  '00000161.jpg': ['00000015.jpg', '00000081.jpg'],\n",
       "  '00000162.jpg': [],\n",
       "  '00000162.png': [],\n",
       "  '00000163.jpg': [],\n",
       "  '00000164.jpg': [],\n",
       "  '00000165.jpg': [],\n",
       "  '00000166.jpg': ['00000120.jpg', '00000206.jpg'],\n",
       "  '00000167.jpg': [],\n",
       "  '00000168.jpg': [],\n",
       "  '00000168.png': [],\n",
       "  '00000169.jpg': [],\n",
       "  '00000170.jpg': ['00000177.jpg'],\n",
       "  '00000171.jpg': [],\n",
       "  '00000171.png': ['00000141.png'],\n",
       "  '00000172.jpg': ['00000245.jpg'],\n",
       "  '00000173.jpg': [],\n",
       "  '00000174.jpg': ['00000074.jpg'],\n",
       "  '00000175.jpg': [],\n",
       "  '00000176.jpg': ['00000233.jpg'],\n",
       "  '00000177.jpg': ['00000170.jpg'],\n",
       "  '00000178.jpg': [],\n",
       "  '00000178.png': [],\n",
       "  '00000179.jpg': [],\n",
       "  '00000180.jpg': [],\n",
       "  '00000181.jpg': ['00000199.jpg', '00000270.jpg'],\n",
       "  '00000182.jpg': [],\n",
       "  '00000183.JPG': [],\n",
       "  '00000184.jpg': [],\n",
       "  '00000185.jpg': [],\n",
       "  '00000186.jpg': [],\n",
       "  '00000187.jpg': [],\n",
       "  '00000187.png': ['00000094.png'],\n",
       "  '00000188.jpg': [],\n",
       "  '00000188.png': [],\n",
       "  '00000189.jpg': ['00000033.jpg', '00000135.jpg'],\n",
       "  '00000190.jpg': ['00000193.jpg'],\n",
       "  '00000191.jpg': ['00000336.jpg'],\n",
       "  '00000192.jpeg': [],\n",
       "  '00000192.jpg': ['00000294.jpg'],\n",
       "  '00000193.jpg': ['00000190.jpg'],\n",
       "  '00000194.jpg': ['00000134.jpg'],\n",
       "  '00000195.jpg': [],\n",
       "  '00000195.png': ['00000268.png'],\n",
       "  '00000196.jpg': [],\n",
       "  '00000197.jpg': ['00000024.jpg', '00000320.jpg'],\n",
       "  '00000198.jpg': [],\n",
       "  '00000199.jpeg': [],\n",
       "  '00000199.jpg': ['00000181.jpg', '00000270.jpg'],\n",
       "  '00000200.jpg': ['00000214.jpg', '00000016.jpg'],\n",
       "  '00000201.jpg': [],\n",
       "  '00000202.jpg': [],\n",
       "  '00000203.gif': [],\n",
       "  '00000204.jpg': ['00000045.jpg'],\n",
       "  '00000205.jpg': [],\n",
       "  '00000206.jpg': ['00000120.jpg', '00000166.jpg'],\n",
       "  '00000208.jpg': ['00000031.jpg',\n",
       "   '00000139.jpg',\n",
       "   '00000312.jpg',\n",
       "   '00000315.jpg'],\n",
       "  '00000209.jpg': [],\n",
       "  '00000210.jpg': [],\n",
       "  '00000211.jpg': [],\n",
       "  '00000212.jpg': [],\n",
       "  '00000213.jpg': [],\n",
       "  '00000213.png': [],\n",
       "  '00000214.gif': [],\n",
       "  '00000214.jpg': ['00000200.jpg', '00000016.jpg'],\n",
       "  '00000215.jpg': [],\n",
       "  '00000215.png': ['00000236.png'],\n",
       "  '00000216.jpg': [],\n",
       "  '00000217.jpg': [],\n",
       "  '00000218.jpg': [],\n",
       "  '00000219.jpg': [],\n",
       "  '00000220.gif': [],\n",
       "  '00000220.jpg': [],\n",
       "  '00000221.jpg': [],\n",
       "  '00000222.jpg': [],\n",
       "  '00000223.jpg': [],\n",
       "  '00000224.jpg': [],\n",
       "  '00000225.jpg': [],\n",
       "  '00000226.jpg': [],\n",
       "  '00000227.jpg': ['00000283.gif'],\n",
       "  '00000228.jpg': [],\n",
       "  '00000229.jpg': ['00000099.jpg'],\n",
       "  '00000230.jpg': [],\n",
       "  '00000231.gif': [],\n",
       "  '00000231.jpg': [],\n",
       "  '00000232.jpg': [],\n",
       "  '00000233.jpeg': [],\n",
       "  '00000233.jpg': ['00000176.jpg'],\n",
       "  '00000234.jpg': [],\n",
       "  '00000235.jpg': [],\n",
       "  '00000236.jpg': [],\n",
       "  '00000236.png': ['00000215.png'],\n",
       "  '00000237.jpg': ['00000314.jpg', '00000092.png'],\n",
       "  '00000237.png': [],\n",
       "  '00000238.jpg': [],\n",
       "  '00000239.jpg': [],\n",
       "  '00000240.jpg': [],\n",
       "  '00000241.jpg': [],\n",
       "  '00000241.png': [],\n",
       "  '00000242.jpg': ['00000244.jpg'],\n",
       "  '00000243.jpg': [],\n",
       "  '00000244.jpg': ['00000242.jpg'],\n",
       "  '00000245.jpg': ['00000172.jpg'],\n",
       "  '00000246.jpg': [],\n",
       "  '00000247.jpg': ['00000313.jpg'],\n",
       "  '00000247.png': [],\n",
       "  '00000248.jpg': [],\n",
       "  '00000249.jpg': [],\n",
       "  '00000250.jpg': [],\n",
       "  '00000251.jpg': [],\n",
       "  '00000252.jpg': [],\n",
       "  '00000253.jpg': [],\n",
       "  '00000254.jpg': ['00000011.jpg'],\n",
       "  '00000255.jpg': [],\n",
       "  '00000256.jpg': [],\n",
       "  '00000257.jpg': [],\n",
       "  '00000259.jpg': [],\n",
       "  '00000260.jpg': [],\n",
       "  '00000261.jpg': [],\n",
       "  '00000262.png': [],\n",
       "  '00000263.jpg': [],\n",
       "  '00000264.jpg': [],\n",
       "  '00000265.jpg': [],\n",
       "  '00000266.jpeg': [],\n",
       "  '00000266.png': [],\n",
       "  '00000267.jpg': [],\n",
       "  '00000268.jpg': [],\n",
       "  '00000268.png': ['00000195.png'],\n",
       "  '00000269.jpg': [],\n",
       "  '00000270.jpg': ['00000181.jpg', '00000199.jpg'],\n",
       "  '00000271.jpg': [],\n",
       "  '00000272.jpg': [],\n",
       "  '00000273.jpg': [],\n",
       "  '00000274.jpg': ['00000281.jpg'],\n",
       "  '00000275.jpg': [],\n",
       "  '00000275.png': ['00000088.png'],\n",
       "  '00000276.jpg': ['00000098.jpg'],\n",
       "  '00000277.jpg': [],\n",
       "  '00000278.jpg': [],\n",
       "  '00000279.jpg': ['00000122.jpg'],\n",
       "  '00000280.jpg': [],\n",
       "  '00000281.jpg': ['00000274.jpg'],\n",
       "  '00000282.jpg': [],\n",
       "  '00000283.gif': ['00000227.jpg'],\n",
       "  '00000284.jpg': [],\n",
       "  '00000285.jpg': [],\n",
       "  '00000286.png': [],\n",
       "  '00000287.jpg': [],\n",
       "  '00000288.jpg': [],\n",
       "  '00000289.jpg': [],\n",
       "  '00000290.jpg': [],\n",
       "  '00000291.jpg': [],\n",
       "  '00000292.JPG': [],\n",
       "  '00000294.jpg': ['00000192.jpg'],\n",
       "  '00000294.png': [],\n",
       "  '00000295.jpg': [],\n",
       "  '00000296.jpg': [],\n",
       "  '00000296.png': [],\n",
       "  '00000297.jpg': [],\n",
       "  '00000298.jpg': [],\n",
       "  '00000298.png': [],\n",
       "  '00000299.jpg': ['00000140.jpg'],\n",
       "  '00000300.jpg': [],\n",
       "  '00000301.jpg': [],\n",
       "  '00000302.jpg': [],\n",
       "  '00000303.jpg': [],\n",
       "  '00000304.jpg': [],\n",
       "  '00000304.png': [],\n",
       "  '00000305.jpg': [],\n",
       "  '00000306.jpg': [],\n",
       "  '00000307.jpg': [],\n",
       "  '00000308.jpg': ['00000110.jpg'],\n",
       "  '00000309.jpg': [],\n",
       "  '00000310.jpg': ['00000146.jpg'],\n",
       "  '00000311.jpg': [],\n",
       "  '00000312.jpg': ['00000031.jpg',\n",
       "   '00000139.jpg',\n",
       "   '00000208.jpg',\n",
       "   '00000315.jpg'],\n",
       "  '00000312.png': [],\n",
       "  '00000313.jpg': ['00000247.jpg'],\n",
       "  '00000314.jpg': ['00000237.jpg', '00000092.png'],\n",
       "  '00000315.jpg': ['00000031.jpg',\n",
       "   '00000139.jpg',\n",
       "   '00000208.jpg',\n",
       "   '00000312.jpg'],\n",
       "  '00000316.jpg': [],\n",
       "  '00000317.jpg': [],\n",
       "  '00000318.jpg': [],\n",
       "  '00000319.jpg': [],\n",
       "  '00000320.jpg': ['00000024.jpg', '00000197.jpg'],\n",
       "  '00000321.jpg': ['00000012.jpg'],\n",
       "  '00000322.jpg': [],\n",
       "  '00000323.jpg': [],\n",
       "  '00000324.jpg': [],\n",
       "  '00000325.jpg': [],\n",
       "  '00000326.jpg': [],\n",
       "  '00000327.jpg': [],\n",
       "  '00000328.jpg': [],\n",
       "  '00000329.jpg': [],\n",
       "  '00000330.jpg': [],\n",
       "  '00000331.jpg': [],\n",
       "  '00000332.jpg': [],\n",
       "  '00000333.jpg': ['00000068.jpg'],\n",
       "  '00000334.jpg': [],\n",
       "  '00000335.jpg': [],\n",
       "  '00000336.jpg': ['00000191.jpg'],\n",
       "  '00000337.jpg': ['00000148.jpg'],\n",
       "  '00000338.jpg': [],\n",
       "  '00000338.png': [],\n",
       "  '00000339.jpg': [],\n",
       "  '00000340.jpg': []},\n",
       " 'erythema_migrans': {'00000000.jpg': [],\n",
       "  '00000000.jpg,800,600,,1,0,0,800,600,,': ['00000353.jpg'],\n",
       "  '00000000.png': [],\n",
       "  '00000001.jpeg': ['00000257.jpeg'],\n",
       "  '00000001.jpg': [],\n",
       "  '00000002.jpg': [],\n",
       "  '00000003.jpg': [],\n",
       "  '00000004.jpg': [],\n",
       "  '00000004.png': ['00000275.png'],\n",
       "  '00000006.jpg': [],\n",
       "  '00000007.jpg': ['00000253.jpg'],\n",
       "  '00000007.png': [],\n",
       "  '00000008.jpg': [],\n",
       "  '00000009.jpg': [],\n",
       "  '00000010.jpg': [],\n",
       "  '00000010.png': [],\n",
       "  '00000011.jpg': [],\n",
       "  '00000012.jpg': [],\n",
       "  '00000013.jpg': [],\n",
       "  '00000014.jpg': [],\n",
       "  '00000015.jpg': [],\n",
       "  '00000015.png': [],\n",
       "  '00000016.jpeg': [],\n",
       "  '00000016.jpg': [],\n",
       "  '00000016.png': [],\n",
       "  '00000017.jpg': [],\n",
       "  '00000017.png': [],\n",
       "  '00000018.jpg': [],\n",
       "  '00000019.jpg': [],\n",
       "  '00000019.png': [],\n",
       "  '00000020.jpg': ['00000163.jpg'],\n",
       "  '00000021.jpg': [],\n",
       "  '00000021.png': [],\n",
       "  '00000022.jpg': ['00000204.jpg'],\n",
       "  '00000023.jpg': [],\n",
       "  '00000025.jpg': ['00000110.jpg'],\n",
       "  '00000026.jpg': [],\n",
       "  '00000027.jpg': [],\n",
       "  '00000028.jpg': [],\n",
       "  '00000029.jpg': [],\n",
       "  '00000029.png': [],\n",
       "  '00000030.jpg': [],\n",
       "  '00000030.png': [],\n",
       "  '00000031.jpg': [],\n",
       "  '00000032.jpg': [],\n",
       "  '00000033.jpg': [],\n",
       "  '00000034.jpg': [],\n",
       "  '00000035.jpg': [],\n",
       "  '00000036.JPG': [],\n",
       "  '00000037.jpg': [],\n",
       "  '00000037.png': [],\n",
       "  '00000038.jpeg': ['00000136.jpg'],\n",
       "  '00000038.jpg': [],\n",
       "  '00000039.jpg': [],\n",
       "  '00000040.jpg': [],\n",
       "  '00000041.jpg': [],\n",
       "  '00000042.jpg': [],\n",
       "  '00000043.jpg': [],\n",
       "  '00000043.png': [],\n",
       "  '00000044.jpg': [],\n",
       "  '00000045.jpg': [],\n",
       "  '00000046.jpeg': [],\n",
       "  '00000046.jpg': [],\n",
       "  '00000047.JPG': [],\n",
       "  '00000048.jpg': [],\n",
       "  '00000048.png': [],\n",
       "  '00000049.jpg': [],\n",
       "  '00000050.jpg': [],\n",
       "  '00000051.jpg': [],\n",
       "  '00000052.jpg': [],\n",
       "  '00000053.jpg': [],\n",
       "  '00000054.jpg': ['00000057.jpg'],\n",
       "  '00000055.jpg': [],\n",
       "  '00000056.jpg': [],\n",
       "  '00000057.jpg': ['00000054.jpg'],\n",
       "  '00000058.jpg': [],\n",
       "  '00000058.png': [],\n",
       "  '00000059.jpg': [],\n",
       "  '00000059.png': [],\n",
       "  '00000060.JPG': [],\n",
       "  '00000061.jpeg': [],\n",
       "  '00000061.png': [],\n",
       "  '00000062.jpg': [],\n",
       "  '00000062.png': [],\n",
       "  '00000063.JPG': [],\n",
       "  '00000064.jpg': ['00000324.jpg', '00000139.jpg'],\n",
       "  '00000064.png': [],\n",
       "  '00000065.gif': [],\n",
       "  '00000065.jpg': ['00000159.jpg'],\n",
       "  '00000066.jpg': [],\n",
       "  '00000067.jpg': [],\n",
       "  '00000068.jpg': [],\n",
       "  '00000069.jpg': [],\n",
       "  '00000069.png': [],\n",
       "  '00000070.jpg': ['00000332.jpg'],\n",
       "  '00000071.jpg': [],\n",
       "  '00000072.jpg': [],\n",
       "  '00000073.jpg': [],\n",
       "  '00000073.png': [],\n",
       "  '00000074.jpg': [],\n",
       "  '00000075.jpg': [],\n",
       "  '00000075.png': [],\n",
       "  '00000076.jpeg': [],\n",
       "  '00000076.jpg': [],\n",
       "  '00000077.jpg': [],\n",
       "  '00000077.png': [],\n",
       "  '00000078.jpg': [],\n",
       "  '00000079.jpg': [],\n",
       "  '00000080.jpeg': [],\n",
       "  '00000080.jpg': [],\n",
       "  '00000081.jpg': [],\n",
       "  '00000082.jpg': ['00000281.jpg'],\n",
       "  '00000082.png': ['00000130.png'],\n",
       "  '00000083.jpg': [],\n",
       "  '00000084.jpeg': [],\n",
       "  '00000084.jpg': [],\n",
       "  '00000085.jpg': ['00000291.jpg'],\n",
       "  '00000086.jpg': [],\n",
       "  '00000087.jpg': [],\n",
       "  '00000088.jpg': [],\n",
       "  '00000089.jpg': [],\n",
       "  '00000089.png': [],\n",
       "  '00000090.jpg': [],\n",
       "  '00000092.jpg': [],\n",
       "  '00000092.png': [],\n",
       "  '00000093.jpg': [],\n",
       "  '00000094.jpg': ['00000366.jpg'],\n",
       "  '00000095.jpg': [],\n",
       "  '00000096.jpg': ['00000194.JPG'],\n",
       "  '00000097.jpg': [],\n",
       "  '00000097.png': ['00000350.jpg'],\n",
       "  '00000098.jpg': [],\n",
       "  '00000099.jpg': [],\n",
       "  '00000099.png': ['00000269.png'],\n",
       "  '00000100.jpg': [],\n",
       "  '00000101.jpg': [],\n",
       "  '00000102.jpg': [],\n",
       "  '00000103.jpg': [],\n",
       "  '00000104.jpg': [],\n",
       "  '00000105.jpg': [],\n",
       "  '00000106.jpg': ['00000263.jpg'],\n",
       "  '00000106.png': [],\n",
       "  '00000107.jpg': [],\n",
       "  '00000107.png': [],\n",
       "  '00000109.jpg': [],\n",
       "  '00000110.jpg': ['00000025.jpg'],\n",
       "  '00000110.png': [],\n",
       "  '00000111.jpg': ['00000217.jpg', '00000170.jpg'],\n",
       "  '00000112.jpg': ['00000127.jpg'],\n",
       "  '00000113.jpg': [],\n",
       "  '00000114.jpeg': [],\n",
       "  '00000114.jpg': [],\n",
       "  '00000115.jpg': ['00000172.jpg'],\n",
       "  '00000116.jpeg': [],\n",
       "  '00000116.jpg': [],\n",
       "  '00000117.jpg': ['00000137.png'],\n",
       "  '00000118.jpg': [],\n",
       "  '00000119.jpg': ['00000330.jpg'],\n",
       "  '00000120.jpg': ['00000153.jpg'],\n",
       "  '00000120.png': [],\n",
       "  '00000121.jpg': [],\n",
       "  '00000122.jpg': [],\n",
       "  '00000123.jpg': ['00000265.jpg'],\n",
       "  '00000123.png': [],\n",
       "  '00000124.jpg': [],\n",
       "  '00000125.gif': [],\n",
       "  '00000125.jpg': [],\n",
       "  '00000126.jpg': [],\n",
       "  '00000127.jpg': ['00000112.jpg'],\n",
       "  '00000127.png': [],\n",
       "  '00000128.jpg': [],\n",
       "  '00000129.jpg': [],\n",
       "  '00000130.jpg': [],\n",
       "  '00000130.png': ['00000082.png'],\n",
       "  '00000131.gif': [],\n",
       "  '00000131.jpg': [],\n",
       "  '00000132.jpg': [],\n",
       "  '00000132.png': [],\n",
       "  '00000133.jpg': [],\n",
       "  '00000134.jpg': [],\n",
       "  '00000134.png': ['00000251.png'],\n",
       "  '00000135.JPG': [],\n",
       "  '00000135.png': [],\n",
       "  '00000136.jpg': ['00000038.jpeg'],\n",
       "  '00000137.jpg': [],\n",
       "  '00000137.png': ['00000117.jpg'],\n",
       "  '00000138.jpeg': [],\n",
       "  '00000138.jpg': [],\n",
       "  '00000139.jpg': ['00000064.jpg', '00000324.jpg'],\n",
       "  '00000139.png': [],\n",
       "  '00000140.jpg': [],\n",
       "  '00000141.jpg': ['00000345.JPG', '00000351.jpg'],\n",
       "  '00000142.jpg': [],\n",
       "  '00000142.png': [],\n",
       "  '00000143.jpg': [],\n",
       "  '00000144.jpg': [],\n",
       "  '00000145.jpg': [],\n",
       "  '00000145.png': [],\n",
       "  '00000146.jpg': [],\n",
       "  '00000147.jpg': [],\n",
       "  '00000147.png': ['00000349.png'],\n",
       "  '00000148.jpg': ['00000361.png'],\n",
       "  '00000149.jpg': [],\n",
       "  '00000149.png': [],\n",
       "  '00000150.jpg': [],\n",
       "  '00000150.png': ['00000191.png'],\n",
       "  '00000151.jpeg': [],\n",
       "  '00000151.jpg': [],\n",
       "  '00000152.jpg': ['00000206.png', '00000341.JPG', '00000322.png'],\n",
       "  '00000153.jpg': ['00000120.jpg'],\n",
       "  '00000153.png': [],\n",
       "  '00000154.JPG': [],\n",
       "  '00000155.jpg': [],\n",
       "  '00000156.jpg': [],\n",
       "  '00000157.jpeg': [],\n",
       "  '00000157.jpg': [],\n",
       "  '00000158.jpg': [],\n",
       "  '00000158.sml': ['00000275.jpg'],\n",
       "  '00000159.jpg': ['00000065.jpg'],\n",
       "  '00000160.jpg': [],\n",
       "  '00000161.jpg': [],\n",
       "  '00000162.jpg': [],\n",
       "  '00000163.jpg': ['00000020.jpg'],\n",
       "  '00000164.jpg': [],\n",
       "  '00000165.jpg': [],\n",
       "  '00000165.png': [],\n",
       "  '00000166.jpg': [],\n",
       "  '00000166.png': [],\n",
       "  '00000167.jpeg': [],\n",
       "  '00000167.JPG': [],\n",
       "  '00000168.JPG': [],\n",
       "  '00000169.jpg': ['00000278.jpg'],\n",
       "  '00000170.jpg': ['00000111.jpg', '00000217.jpg'],\n",
       "  '00000171.jpg': [],\n",
       "  '00000172.jpg': ['00000115.jpg'],\n",
       "  '00000173.jpg': [],\n",
       "  '00000174.jpg': [],\n",
       "  '00000175.jpg': [],\n",
       "  '00000176.JPG': [],\n",
       "  '00000177.JPG': [],\n",
       "  '00000178.jpg': [],\n",
       "  '00000178.png': [],\n",
       "  '00000179.jpg': [],\n",
       "  '00000180.jpg': [],\n",
       "  '00000181.JPG': [],\n",
       "  '00000182.jpg': [],\n",
       "  '00000183.jpg': [],\n",
       "  '00000183.png': [],\n",
       "  '00000184.jpg': [],\n",
       "  '00000184.png': [],\n",
       "  '00000185.jpg': [],\n",
       "  '00000185.png': [],\n",
       "  '00000186.jpg': ['00000268.jpg'],\n",
       "  '00000187.jpg': [],\n",
       "  '00000188.jpg': [],\n",
       "  '00000188.png': [],\n",
       "  '00000189.jpeg': [],\n",
       "  '00000189.jpg': [],\n",
       "  '00000190.jpg': [],\n",
       "  '00000191.jpg': [],\n",
       "  '00000191.png': ['00000150.png'],\n",
       "  '00000192.jpg': [],\n",
       "  '00000192.png': ['00000308.png'],\n",
       "  '00000193.jpg': [],\n",
       "  '00000194.JPG': ['00000096.jpg'],\n",
       "  '00000195.jpg': [],\n",
       "  '00000196.jpg': [],\n",
       "  '00000197.jpg': [],\n",
       "  '00000198.jpg': [],\n",
       "  '00000199.jpg': [],\n",
       "  '00000200.gif': [],\n",
       "  '00000200.jpg': [],\n",
       "  '00000200.png': [],\n",
       "  '00000201.jpg': [],\n",
       "  '00000202.jpg': [],\n",
       "  '00000203.jpg': [],\n",
       "  '00000204.jpeg': [],\n",
       "  '00000204.jpg': ['00000022.jpg'],\n",
       "  '00000205.jpg': [],\n",
       "  '00000206.jpg': [],\n",
       "  '00000206.png': ['00000152.jpg', '00000341.JPG', '00000322.png'],\n",
       "  '00000207.jpg': [],\n",
       "  '00000208.jpg': [],\n",
       "  '00000209.jpg': [],\n",
       "  '00000210.jpg': [],\n",
       "  '00000210.png': [],\n",
       "  '00000211.JPG': [],\n",
       "  '00000211.png': [],\n",
       "  '00000212.jpg': [],\n",
       "  '00000213.jpg': [],\n",
       "  '00000214.jpg': [],\n",
       "  '00000215.jpg': [],\n",
       "  '00000216.jpg': [],\n",
       "  '00000217.jpg': ['00000111.jpg', '00000170.jpg'],\n",
       "  '00000218.jpg': [],\n",
       "  '00000218.png': [],\n",
       "  '00000219.jpg': [],\n",
       "  '00000219.png': [],\n",
       "  '00000220.jpg': [],\n",
       "  '00000220.png': [],\n",
       "  '00000221.jpg': [],\n",
       "  '00000222.jpg': [],\n",
       "  '00000222.png': [],\n",
       "  '00000223.jpg': [],\n",
       "  '00000224.jpeg': [],\n",
       "  '00000224.jpg': [],\n",
       "  '00000225.jpg': [],\n",
       "  '00000226.jpg': [],\n",
       "  '00000227.jpg': [],\n",
       "  '00000227.png': [],\n",
       "  '00000228.jpg': [],\n",
       "  '00000229.jpg': [],\n",
       "  '00000229.png': [],\n",
       "  '00000231.jpg': [],\n",
       "  '00000232.jpg': [],\n",
       "  '00000233.jpg': [],\n",
       "  '00000234.jpg': [],\n",
       "  '00000235.jpg': [],\n",
       "  '00000236.jpg': [],\n",
       "  '00000236.png': [],\n",
       "  '00000237.jpg': ['00000337.jpg'],\n",
       "  '00000238.jpg': [],\n",
       "  '00000239.jpg': [],\n",
       "  '00000240.jpg': [],\n",
       "  '00000241.jpg': [],\n",
       "  '00000242.jpg': [],\n",
       "  '00000242.png': [],\n",
       "  '00000246.jpg': [],\n",
       "  '00000247.jpg': [],\n",
       "  '00000248.jpg': [],\n",
       "  '00000249.JPG': [],\n",
       "  '00000250.jpg': [],\n",
       "  '00000251.jpg': [],\n",
       "  '00000251.png': ['00000134.png'],\n",
       "  '00000252.jpeg': [],\n",
       "  '00000252.jpg': [],\n",
       "  '00000253.jpg': ['00000007.jpg'],\n",
       "  '00000254.jpg': [],\n",
       "  '00000255.jpg': [],\n",
       "  '00000256.jpg': [],\n",
       "  '00000256.png': [],\n",
       "  '00000257.jpeg': ['00000001.jpeg'],\n",
       "  '00000257.jpg': [],\n",
       "  '00000258.jpg': [],\n",
       "  '00000259.jpg': [],\n",
       "  '00000259.png': [],\n",
       "  '00000260.JPG': [],\n",
       "  '00000261.jpg': [],\n",
       "  '00000262.gif': [],\n",
       "  '00000262.jpeg': [],\n",
       "  '00000262.png': [],\n",
       "  '00000263.jpg': ['00000106.jpg'],\n",
       "  '00000263.png': [],\n",
       "  '00000264.jpg': [],\n",
       "  '00000265.jpeg': [],\n",
       "  '00000265.jpg': ['00000123.jpg'],\n",
       "  '00000266.jpg': [],\n",
       "  '00000267.jpg': [],\n",
       "  '00000268.jpg': ['00000186.jpg'],\n",
       "  '00000269.jpeg': [],\n",
       "  '00000269.png': ['00000099.png'],\n",
       "  '00000270.jpg': [],\n",
       "  '00000271.jpg': [],\n",
       "  '00000272.jpg': [],\n",
       "  '00000273.jpg': [],\n",
       "  '00000274.jpg': [],\n",
       "  '00000275.jpg': ['00000158.sml'],\n",
       "  '00000275.png': ['00000004.png'],\n",
       "  '00000276.gif': [],\n",
       "  '00000276.jpg': [],\n",
       "  '00000277.jpg': [],\n",
       "  '00000278.jpg': ['00000169.jpg'],\n",
       "  '00000279.JPG': [],\n",
       "  '00000279.png': [],\n",
       "  '00000280.jpg': [],\n",
       "  '00000281.jpg': ['00000082.jpg'],\n",
       "  '00000282.jpg': [],\n",
       "  '00000283.JPG': [],\n",
       "  '00000284.jpg': [],\n",
       "  '00000285.jpg': [],\n",
       "  '00000286.jpg': [],\n",
       "  '00000286.png': [],\n",
       "  '00000287.JPG': [],\n",
       "  '00000287.png': [],\n",
       "  '00000288.jpg': [],\n",
       "  '00000289.jpg': [],\n",
       "  '00000290.jpg': [],\n",
       "  '00000290.png': [],\n",
       "  '00000291.jpg': ['00000085.jpg'],\n",
       "  '00000292.jpg': [],\n",
       "  '00000293.jpg': [],\n",
       "  '00000293.png': [],\n",
       "  '00000294.JPG': [],\n",
       "  '00000294.png': [],\n",
       "  '00000297.jpg': [],\n",
       "  '00000298.jpg': [],\n",
       "  '00000299.jpg': [],\n",
       "  '00000300.jpg': [],\n",
       "  '00000301.jpg': [],\n",
       "  '00000301.png': [],\n",
       "  '00000302.gif': [],\n",
       "  '00000302.jpg': [],\n",
       "  '00000303.jpg': [],\n",
       "  '00000304.jpg': [],\n",
       "  '00000304.png': [],\n",
       "  '00000305.jpg': [],\n",
       "  '00000305.png': [],\n",
       "  '00000306.jpg': [],\n",
       "  '00000306.png': [],\n",
       "  '00000307.jpg': [],\n",
       "  '00000307.png': [],\n",
       "  '00000308.jpg': [],\n",
       "  '00000308.png': ['00000192.png'],\n",
       "  '00000309.jpg': [],\n",
       "  '00000309.png': [],\n",
       "  '00000310.jpg': [],\n",
       "  '00000311.jpg': ['00000325.jpg'],\n",
       "  '00000312.jpg': [],\n",
       "  '00000313.jpg': [],\n",
       "  '00000313.png': [],\n",
       "  '00000314.jpg': [],\n",
       "  '00000315.jpg': [],\n",
       "  '00000316.gif': [],\n",
       "  '00000316.jpg': [],\n",
       "  '00000317.jpg': [],\n",
       "  '00000318.jpg': [],\n",
       "  '00000319.JPG': [],\n",
       "  '00000320.jpg': [],\n",
       "  '00000321.jpg': [],\n",
       "  '00000322.jpg': [],\n",
       "  '00000322.png': ['00000341.JPG', '00000152.jpg', '00000206.png'],\n",
       "  '00000323.jpg': [],\n",
       "  '00000324.jpg': ['00000064.jpg', '00000139.jpg'],\n",
       "  '00000324.png': [],\n",
       "  '00000325.jpg': ['00000311.jpg'],\n",
       "  '00000325.png': [],\n",
       "  '00000326.jpg': [],\n",
       "  '00000327.jpg': [],\n",
       "  '00000328.jpg': [],\n",
       "  '00000329.jpg': [],\n",
       "  '00000330.jpg': ['00000119.jpg'],\n",
       "  '00000331.jpg': [],\n",
       "  '00000332.jpg': ['00000070.jpg'],\n",
       "  '00000332.png': [],\n",
       "  '00000333.jpg': [],\n",
       "  '00000334.jpg': [],\n",
       "  '00000335.jpg': [],\n",
       "  '00000335.png': [],\n",
       "  '00000336.ashx': [],\n",
       "  '00000336.jpg': [],\n",
       "  '00000337.jpg': ['00000237.jpg'],\n",
       "  '00000338.jpg': [],\n",
       "  '00000338.png': [],\n",
       "  '00000339.jpg': [],\n",
       "  '00000339.png': [],\n",
       "  '00000340.jpg': [],\n",
       "  '00000340.png': [],\n",
       "  '00000341.JPG': ['00000322.png', '00000152.jpg', '00000206.png'],\n",
       "  '00000342.jpg': [],\n",
       "  '00000342.png': [],\n",
       "  '00000343.jpg': [],\n",
       "  '00000344.jpg': [],\n",
       "  '00000345.JPG': ['00000141.jpg', '00000351.jpg'],\n",
       "  '00000346.jpg': [],\n",
       "  '00000347.JPG': [],\n",
       "  '00000348.png': [],\n",
       "  '00000349.jpg': [],\n",
       "  '00000349.png': ['00000147.png'],\n",
       "  '00000350.jpg': ['00000097.png'],\n",
       "  '00000350.png': [],\n",
       "  '00000351.jpg': ['00000141.jpg', '00000345.JPG'],\n",
       "  '00000352.jpg': [],\n",
       "  '00000353.jpg': ['00000000.jpg,800,600,,1,0,0,800,600,,'],\n",
       "  '00000354.jpg': [],\n",
       "  '00000355.jpg': [],\n",
       "  '00000356.jpeg': [],\n",
       "  '00000356.png': [],\n",
       "  '00000357.jpg': [],\n",
       "  '00000358.jpg': [],\n",
       "  '00000359.jpg': [],\n",
       "  '00000360.jpg': [],\n",
       "  '00000361.jpg': [],\n",
       "  '00000361.png': ['00000148.jpg'],\n",
       "  '00000362.jpg': [],\n",
       "  '00000363.jpg': [],\n",
       "  '00000365.png': [],\n",
       "  '00000366.jpg': ['00000094.jpg'],\n",
       "  '00000368.jpg': []},\n",
       " 'insect_bite': {'00000000.jpg': [],\n",
       "  '00000001.jpg': [],\n",
       "  '00000002.png': [],\n",
       "  '00000003.jpg': [],\n",
       "  '00000004.jpg': [],\n",
       "  '00000005.jpg': [],\n",
       "  '00000006.jpg': [],\n",
       "  '00000007.jpg': [],\n",
       "  '00000008.jpeg': [],\n",
       "  '00000008.jpg': [],\n",
       "  '00000008.png': ['00000118.jpg'],\n",
       "  '00000009.JPG': [],\n",
       "  '00000010.jpg': [],\n",
       "  '00000011.jpg': [],\n",
       "  '00000012.jpg': [],\n",
       "  '00000012.png': [],\n",
       "  '00000013.jpg': [],\n",
       "  '00000014.jpg': [],\n",
       "  '00000015.jpg': [],\n",
       "  '00000016.jpg': [],\n",
       "  '00000017.jpg': [],\n",
       "  '00000018.jpg': [],\n",
       "  '00000019.jpg': [],\n",
       "  '00000019.png': [],\n",
       "  '00000020.jpg': ['00000184.jpg'],\n",
       "  '00000021.jpg': [],\n",
       "  '00000022.jpg': [],\n",
       "  '00000023.jpg': [],\n",
       "  '00000024.jpg': [],\n",
       "  '00000024.png': [],\n",
       "  '00000025.jpg': [],\n",
       "  '00000026.jpg': [],\n",
       "  '00000026.png': [],\n",
       "  '00000027.jpg': [],\n",
       "  '00000028.jpg': [],\n",
       "  '00000029.jpg': [],\n",
       "  '00000030.jpg': ['00000167.jpg'],\n",
       "  '00000031.jpg': [],\n",
       "  '00000032.jpg': [],\n",
       "  '00000032.png': [],\n",
       "  '00000033.jpg': [],\n",
       "  '00000033.png': [],\n",
       "  '00000034.jpg': [],\n",
       "  '00000035.jpg': [],\n",
       "  '00000036.jpg': [],\n",
       "  '00000037.jpg': [],\n",
       "  '00000038.jpg': [],\n",
       "  '00000039.jpeg': [],\n",
       "  '00000039.jpg': [],\n",
       "  '00000040.jpg': [],\n",
       "  '00000041.jpg': [],\n",
       "  '00000042.jpg': ['00000064.jpg'],\n",
       "  '00000043.jpg': [],\n",
       "  '00000043.png': [],\n",
       "  '00000044.jpg': [],\n",
       "  '00000045.jpg': ['00000303.jpg'],\n",
       "  '00000046.jpeg': [],\n",
       "  '00000046.jpg': [],\n",
       "  '00000047.jpg': [],\n",
       "  '00000048.jpg': [],\n",
       "  '00000049.jpg': [],\n",
       "  '00000050.jpg': [],\n",
       "  '00000051.jpg': [],\n",
       "  '00000052.jpg': [],\n",
       "  '00000053.jpg': [],\n",
       "  '00000054.jpg': [],\n",
       "  '00000055.jpg': [],\n",
       "  '00000056.jpg': [],\n",
       "  '00000057.jpg': [],\n",
       "  '00000058.jpg': [],\n",
       "  '00000059.jpg': [],\n",
       "  '00000060.jpg': [],\n",
       "  '00000061.jpg': [],\n",
       "  '00000062.jpg': [],\n",
       "  '00000063.jpg': [],\n",
       "  '00000064.jpg': ['00000042.jpg'],\n",
       "  '00000065.jpg': [],\n",
       "  '00000066.jpg': [],\n",
       "  '00000067.jpg': [],\n",
       "  '00000068.jpg': [],\n",
       "  '00000069.jpg': [],\n",
       "  '00000070.jpg': [],\n",
       "  '00000070.jpg#keepProtocol': [],\n",
       "  '00000071.jpg': [],\n",
       "  '00000072.jpeg': [],\n",
       "  '00000072.jpg': [],\n",
       "  '00000073.jpg': [],\n",
       "  '00000073.png': [],\n",
       "  '00000074.jpg': [],\n",
       "  '00000075.jpg': [],\n",
       "  '00000076.jpg': [],\n",
       "  '00000077.jpg': [],\n",
       "  '00000078.jpg': [],\n",
       "  '00000079.jpg': [],\n",
       "  '00000080.jpg': [],\n",
       "  '00000081.jpg': [],\n",
       "  '00000082.jpg': [],\n",
       "  '00000083.jpg': [],\n",
       "  '00000084.png': [],\n",
       "  '00000085.jpg': [],\n",
       "  '00000086.jpg': [],\n",
       "  '00000087.JPG': [],\n",
       "  '00000088.jpg': [],\n",
       "  '00000089.jpg': [],\n",
       "  '00000090.jpg': [],\n",
       "  '00000091.jpg': [],\n",
       "  '00000092.jpg': [],\n",
       "  '00000093.jpg': [],\n",
       "  '00000094.jpg': [],\n",
       "  '00000095.jpg': ['00000128.jpg'],\n",
       "  '00000096.jpg': [],\n",
       "  '00000097.jpg': [],\n",
       "  '00000098.jpg': [],\n",
       "  '00000098.jpg#keepProtocol': [],\n",
       "  '00000099.jpg': [],\n",
       "  '00000100.jpg': [],\n",
       "  '00000101.jpg': [],\n",
       "  '00000102.JPG': [],\n",
       "  '00000103.jpg': [],\n",
       "  '00000104.jpg': [],\n",
       "  '00000105.jpg': [],\n",
       "  '00000106.jpg': [],\n",
       "  '00000107.jpg': [],\n",
       "  '00000108.jpg': [],\n",
       "  '00000109.jpg': ['00000193.jpg'],\n",
       "  '00000110.jpg': [],\n",
       "  '00000111.jpg': [],\n",
       "  '00000112.jpg': [],\n",
       "  '00000113.jpg': [],\n",
       "  '00000114.jpg': [],\n",
       "  '00000115.jpg': [],\n",
       "  '00000116.jpg': [],\n",
       "  '00000117.jpg': [],\n",
       "  '00000118.jpg': ['00000008.png'],\n",
       "  '00000119.jpg': ['00000145.jpg'],\n",
       "  '00000120.jpg': [],\n",
       "  '00000121.jpg': [],\n",
       "  '00000122.jpg': [],\n",
       "  '00000123.jpg': [],\n",
       "  '00000124.jpg': [],\n",
       "  '00000125.jpg': [],\n",
       "  '00000126.jpg': [],\n",
       "  '00000127.JPG': [],\n",
       "  '00000128.0&q=45&auto=format&w=926&fit=clip': [],\n",
       "  '00000128.jpg': ['00000095.jpg'],\n",
       "  '00000129.jpg': [],\n",
       "  '00000130.jpg': [],\n",
       "  '00000131.jpg': [],\n",
       "  '00000132.jpg': [],\n",
       "  '00000133.jpg': [],\n",
       "  '00000135.jpg': [],\n",
       "  '00000136.jpg': [],\n",
       "  '00000137.jpg': [],\n",
       "  '00000138.jpg': [],\n",
       "  '00000139.jpg': [],\n",
       "  '00000140.jpg': ['00000223.jpg'],\n",
       "  '00000141.jpg': [],\n",
       "  '00000142.jpg': [],\n",
       "  '00000143.jpg': [],\n",
       "  '00000144.jpg': [],\n",
       "  '00000145.jpg': ['00000119.jpg'],\n",
       "  '00000146.jpg': [],\n",
       "  '00000147.jpg': [],\n",
       "  '00000148.jpg': [],\n",
       "  '00000149.jpg': [],\n",
       "  '00000150.jpg': ['00000161.jpg'],\n",
       "  '00000151.jpg': [],\n",
       "  '00000152.jpeg': [],\n",
       "  '00000153.jpg': [],\n",
       "  '00000154.jpg': [],\n",
       "  '00000155.jpg': [],\n",
       "  '00000156.jpg': [],\n",
       "  '00000158.jpg': [],\n",
       "  '00000159.jpg': [],\n",
       "  '00000160.jpg': [],\n",
       "  '00000161.jpg': ['00000150.jpg'],\n",
       "  '00000162.jpg': [],\n",
       "  '00000163.jpg': [],\n",
       "  '00000164.jpg': [],\n",
       "  '00000165.jpg': [],\n",
       "  '00000166.jpg': [],\n",
       "  '00000167.jpg': ['00000030.jpg'],\n",
       "  '00000168.jpg': [],\n",
       "  '00000169.jpg': [],\n",
       "  '00000170.jpg': [],\n",
       "  '00000171.jpg': [],\n",
       "  '00000172.jpg': [],\n",
       "  '00000173.jpg': [],\n",
       "  '00000174.jpg': [],\n",
       "  '00000176.jpg': [],\n",
       "  '00000177.jpg': [],\n",
       "  '00000178.jpg': [],\n",
       "  '00000179.jpg': [],\n",
       "  '00000180.jpg': [],\n",
       "  '00000181.jpeg': [],\n",
       "  '00000181.jpg': [],\n",
       "  '00000182.jpg': [],\n",
       "  '00000183.jpg': ['00000205.jpg'],\n",
       "  '00000184.jpg': ['00000020.jpg'],\n",
       "  '00000185.jpg': [],\n",
       "  '00000186.jpg': [],\n",
       "  '00000187.jpg': [],\n",
       "  '00000188.jpg': [],\n",
       "  '00000189.jpg': [],\n",
       "  '00000190.jpg': [],\n",
       "  '00000191.jpg': [],\n",
       "  '00000192.jpg': [],\n",
       "  '00000193.jpg': ['00000109.jpg'],\n",
       "  '00000195.jpg': [],\n",
       "  '00000196.jpg': [],\n",
       "  '00000197.jpg': [],\n",
       "  '00000198.jpg': [],\n",
       "  '00000199.jpg': ['00000216.jpg'],\n",
       "  '00000200.jpg': [],\n",
       "  '00000201.jpg': [],\n",
       "  '00000202.jpg': [],\n",
       "  '00000203.jpg': [],\n",
       "  '00000204.jpg': [],\n",
       "  '00000205.gif': ['00000295.gif'],\n",
       "  '00000205.jpg': ['00000183.jpg'],\n",
       "  '00000206.jpg': [],\n",
       "  '00000207.jpg': [],\n",
       "  '00000208.jpg': [],\n",
       "  '00000209.jpg': [],\n",
       "  '00000210.jpg': [],\n",
       "  '00000211.jpg': [],\n",
       "  '00000213.jpg': [],\n",
       "  '00000214.jpg': [],\n",
       "  '00000215.jpg': [],\n",
       "  '00000216.jpg': ['00000199.jpg'],\n",
       "  '00000217.jpg': [],\n",
       "  '00000218.jpg': [],\n",
       "  '00000219.jpg': [],\n",
       "  '00000220.jpg': [],\n",
       "  '00000221.jpg': [],\n",
       "  '00000221.png': [],\n",
       "  '00000222.jpg': [],\n",
       "  '00000223.jpg': ['00000140.jpg'],\n",
       "  '00000224.jpg': [],\n",
       "  '00000225.jpg': [],\n",
       "  '00000226.jpg': [],\n",
       "  '00000226.png': [],\n",
       "  '00000227.jpg': [],\n",
       "  '00000228.jpg': [],\n",
       "  '00000229.jpeg': [],\n",
       "  '00000229.jpg': [],\n",
       "  '00000230.jpg': [],\n",
       "  '00000231.jpg': [],\n",
       "  '00000232.jpg': [],\n",
       "  '00000233.jpg': [],\n",
       "  '00000234.jpeg': [],\n",
       "  '00000234.jpg': [],\n",
       "  '00000235.jpg': [],\n",
       "  '00000236.jpg': [],\n",
       "  '00000237.JPG': [],\n",
       "  '00000238.jpg': [],\n",
       "  '00000239.jpg': [],\n",
       "  '00000240.jpg': [],\n",
       "  '00000241.jpg': [],\n",
       "  '00000241.png': [],\n",
       "  '00000242.jpg': [],\n",
       "  '00000243.jpg': [],\n",
       "  '00000244.jpg': [],\n",
       "  '00000245.jpg': [],\n",
       "  '00000247.jpg': [],\n",
       "  '00000247.png': [],\n",
       "  '00000248.jpg': [],\n",
       "  '00000248.png': [],\n",
       "  '00000249.jpg': ['00000348.jpg'],\n",
       "  '00000250.jpg': [],\n",
       "  '00000251.jpg': [],\n",
       "  '00000252.jpg': [],\n",
       "  '00000252.png': [],\n",
       "  '00000253.jpg': [],\n",
       "  '00000254.jpg': [],\n",
       "  '00000255.jpg': [],\n",
       "  '00000256.jpg': [],\n",
       "  '00000258.jpg': [],\n",
       "  '00000259.jpg': [],\n",
       "  '00000260.jpg': [],\n",
       "  '00000261.jpg': [],\n",
       "  '00000262.jpg': [],\n",
       "  '00000263.JPG': [],\n",
       "  '00000264.jpg': [],\n",
       "  '00000265.jpg': [],\n",
       "  '00000266.jpg': [],\n",
       "  '00000267.jpg': [],\n",
       "  '00000268.jpg': [],\n",
       "  '00000269.jpg': [],\n",
       "  '00000269.png': [],\n",
       "  '00000270.jpg': [],\n",
       "  '00000270.png': [],\n",
       "  '00000272.jpg': [],\n",
       "  '00000273.jpg': [],\n",
       "  '00000273.png': [],\n",
       "  '00000274.jpg': [],\n",
       "  '00000275.jpg': [],\n",
       "  '00000276.jpg': [],\n",
       "  '00000276.png': [],\n",
       "  '00000277.jpg': [],\n",
       "  '00000277.png': [],\n",
       "  '00000278.jpg': [],\n",
       "  '00000279.JPG': [],\n",
       "  '00000280.jpg': [],\n",
       "  '00000280.png': [],\n",
       "  '00000281.gif': [],\n",
       "  '00000281.jpg': [],\n",
       "  '00000282.jpg': [],\n",
       "  '00000283.jpg': [],\n",
       "  '00000284.jpg': [],\n",
       "  '00000285.JPG': [],\n",
       "  '00000286.jpg': [],\n",
       "  '00000286.png': [],\n",
       "  '00000287.jpg': [],\n",
       "  '00000288.jpg': ['00000316.jpg'],\n",
       "  '00000288.png': [],\n",
       "  '00000289.jpg': [],\n",
       "  '00000290.jpg': [],\n",
       "  '00000291.jpg': [],\n",
       "  '00000292.jpg': [],\n",
       "  '00000293.jpg': [],\n",
       "  '00000294.jpg': [],\n",
       "  '00000295.gif': ['00000205.gif'],\n",
       "  '00000295.jpg': [],\n",
       "  '00000296.jpg': [],\n",
       "  '00000298.jpg': [],\n",
       "  '00000299.jpg': [],\n",
       "  '00000300.jpg': [],\n",
       "  '00000301.jpg': [],\n",
       "  '00000302.jpg': [],\n",
       "  '00000303.jpg': ['00000045.jpg'],\n",
       "  '00000304.jpg': [],\n",
       "  '00000305.jpg': [],\n",
       "  '00000306.jpg': [],\n",
       "  '00000306.png': [],\n",
       "  '00000307.jpg': [],\n",
       "  '00000308.jpg': [],\n",
       "  '00000310.jpg': [],\n",
       "  '00000311.jpg': [],\n",
       "  '00000311.png': [],\n",
       "  '00000312.jpg': [],\n",
       "  '00000312.jpg#keepProtocol': [],\n",
       "  '00000313.jpeg': [],\n",
       "  '00000313.jpg': [],\n",
       "  '00000314.jpg': [],\n",
       "  '00000315.jpg': [],\n",
       "  '00000316.jpg': ['00000288.jpg'],\n",
       "  '00000317.jpg': [],\n",
       "  '00000318.jpg': [],\n",
       "  '00000319.jpg': [],\n",
       "  '00000320.jpg': [],\n",
       "  '00000321.jpg': [],\n",
       "  '00000322.jpg': [],\n",
       "  '00000323.jpg': [],\n",
       "  '00000324.jpg': [],\n",
       "  '00000324.png': [],\n",
       "  '00000325.jpg': [],\n",
       "  '00000326.jpg': ['00000330.jpg'],\n",
       "  '00000327.jpeg': [],\n",
       "  '00000328.jpg': [],\n",
       "  '00000329.JPG': [],\n",
       "  '00000330.jpg': ['00000326.jpg'],\n",
       "  '00000331.jpg': [],\n",
       "  '00000332.jpg': [],\n",
       "  '00000332.png': [],\n",
       "  '00000334.jpg': [],\n",
       "  '00000335.jpg': [],\n",
       "  '00000336.jpg': [],\n",
       "  '00000336.png': [],\n",
       "  '00000338.jpg': [],\n",
       "  '00000338.png': [],\n",
       "  '00000339.jpg': [],\n",
       "  '00000340.jpg': [],\n",
       "  '00000341.jpg': [],\n",
       "  '00000342.jpg': [],\n",
       "  '00000343.jpg': [],\n",
       "  '00000344.jpg': [],\n",
       "  '00000345.jpeg': [],\n",
       "  '00000345.jpg': [],\n",
       "  '00000346.jpg': [],\n",
       "  '00000347.jpg': [],\n",
       "  '00000348.jpg': ['00000249.jpg'],\n",
       "  '00000349.jpg': [],\n",
       "  '00000350.jpg': [],\n",
       "  '00000351.jpg': [],\n",
       "  '00000352.jpg': [],\n",
       "  '00000353.jpg': [],\n",
       "  '00000353.png': [],\n",
       "  '00000354.jpg': [],\n",
       "  '00000355.jpg': [],\n",
       "  '00000356.jpg': [],\n",
       "  '00000358.jpg': [],\n",
       "  '00000360.jpg': [],\n",
       "  '00000361.jpg': []},\n",
       " 'tinea_corporis': {'00000000.jpg': [],\n",
       "  '00000000.png': [],\n",
       "  '00000001.jpg': [],\n",
       "  '00000002.jpg': [],\n",
       "  '00000003.jpg': [],\n",
       "  '00000004.jpg': [],\n",
       "  '00000005.jpg': [],\n",
       "  '00000006.jpg': [],\n",
       "  '00000007.jpg': [],\n",
       "  '00000008.jpg': [],\n",
       "  '00000009.jpg': [],\n",
       "  '00000010.jpg': [],\n",
       "  '00000011.jpg': [],\n",
       "  '00000012.jpg': [],\n",
       "  '00000012.png': [],\n",
       "  '00000013.jpg': [],\n",
       "  '00000014.jpg': [],\n",
       "  '00000015.jpg': [],\n",
       "  '00000016.jpg': [],\n",
       "  '00000017.jpg': [],\n",
       "  '00000018.jpg': [],\n",
       "  '00000019.jpg': [],\n",
       "  '00000019.png': [],\n",
       "  '00000020.jpg': ['00000124.jpg'],\n",
       "  '00000021.jpg': [],\n",
       "  '00000022.jpg': [],\n",
       "  '00000022.png': [],\n",
       "  '00000023.jpg': [],\n",
       "  '00000023.png': [],\n",
       "  '00000024.jpg': [],\n",
       "  '00000025.jpg': [],\n",
       "  '00000026.jpg': [],\n",
       "  '00000027.jpg': [],\n",
       "  '00000028.jpg': ['00000131.jpeg', '00000297.jpeg'],\n",
       "  '00000029.jpg': ['00000171.jpg'],\n",
       "  '00000030.jpg': [],\n",
       "  '00000031.jpg': [],\n",
       "  '00000032.jpg': [],\n",
       "  '00000032.png': [],\n",
       "  '00000033.jpg': [],\n",
       "  '00000034.jpg': [],\n",
       "  '00000035.jpg': [],\n",
       "  '00000036.jpg': [],\n",
       "  '00000037.jpg': [],\n",
       "  '00000038.jpeg': [],\n",
       "  '00000038.jpg': [],\n",
       "  '00000039.jpg': [],\n",
       "  '00000039.png': [],\n",
       "  '00000040.JPG': [],\n",
       "  '00000040.png': [],\n",
       "  '00000041.jpg': [],\n",
       "  '00000042.jpg': [],\n",
       "  '00000042.png': [],\n",
       "  '00000043.jpeg': [],\n",
       "  '00000043.JPG': [],\n",
       "  '00000044.jpg': [],\n",
       "  '00000045.jpg': [],\n",
       "  '00000045.png': ['00000318.png'],\n",
       "  '00000046.jpg': [],\n",
       "  '00000047.jpg': [],\n",
       "  '00000047.uqM-': [],\n",
       "  '00000048.jpg': [],\n",
       "  '00000049.jpg': [],\n",
       "  '00000050.jpg': [],\n",
       "  '00000051.jpg': [],\n",
       "  '00000051.png': [],\n",
       "  '00000052.jpg': [],\n",
       "  '00000053.jpg': [],\n",
       "  '00000054.jpg': [],\n",
       "  '00000055.gif': [],\n",
       "  '00000055.jpg': [],\n",
       "  '00000056.jpg': [],\n",
       "  '00000057.jpg': [],\n",
       "  '00000058.jpg': [],\n",
       "  '00000059.jpg': [],\n",
       "  '00000060.jpg': [],\n",
       "  '00000061.jpg': ['00000320.jpg'],\n",
       "  '00000062.jpg': [],\n",
       "  '00000062.png': [],\n",
       "  '00000063.jpg': [],\n",
       "  '00000064.jpg': [],\n",
       "  '00000065.jpeg': [],\n",
       "  '00000065.jpg': [],\n",
       "  '00000066.jpg': [],\n",
       "  '00000067.jpg': [],\n",
       "  '00000067.png': [],\n",
       "  '00000068.jpg': [],\n",
       "  '00000068.png': [],\n",
       "  '00000069.jpg': [],\n",
       "  '00000070.jpg': [],\n",
       "  '00000071.png': ['00000179.png'],\n",
       "  '00000072.jpg': [],\n",
       "  '00000073.jpg': [],\n",
       "  '00000074.jpeg': [],\n",
       "  '00000074.jpg': [],\n",
       "  '00000075.jpg': [],\n",
       "  '00000076.jpg': [],\n",
       "  '00000078.jpg': [],\n",
       "  '00000079.jpg': [],\n",
       "  '00000080.jpg': [],\n",
       "  '00000081.jpg': [],\n",
       "  '00000081.png': [],\n",
       "  '00000082.jpg': [],\n",
       "  '00000083.jpg': [],\n",
       "  '00000083.png': ['00000266.JPG', '00000255.jpg', '00000334.jpg'],\n",
       "  '00000084.jpg': [],\n",
       "  '00000084.png': [],\n",
       "  '00000085.jpg': [],\n",
       "  '00000086.jpg': [],\n",
       "  '00000087.jpg': [],\n",
       "  '00000088.jpg': [],\n",
       "  '00000089.jpg': [],\n",
       "  '00000090.jpg': [],\n",
       "  '00000091.jpg': [],\n",
       "  '00000091.png': [],\n",
       "  '00000092.jpg': [],\n",
       "  '00000093.jpg': [],\n",
       "  '00000094.jpg': [],\n",
       "  '00000095.jpg': [],\n",
       "  '00000096.png': [],\n",
       "  '00000097.jpg': [],\n",
       "  '00000098.JPG': [],\n",
       "  '00000099.jpg': [],\n",
       "  '00000100.jpg': [],\n",
       "  '00000101.jpg': ['00000226.png'],\n",
       "  '00000102.jpg': [],\n",
       "  '00000102.png': [],\n",
       "  '00000103.jpg': [],\n",
       "  '00000104.jpg': [],\n",
       "  '00000105.jpg': [],\n",
       "  '00000106.jpg': ['00000213.jpg'],\n",
       "  '00000107.jpg': [],\n",
       "  '00000108.jpg': [],\n",
       "  '00000109.jpg': [],\n",
       "  '00000110.jpeg': [],\n",
       "  '00000110.jpg': [],\n",
       "  '00000111.jpg': [],\n",
       "  '00000111.png': [],\n",
       "  '00000112.jpg': [],\n",
       "  '00000112.png': ['00000206.png'],\n",
       "  '00000113.jpg': [],\n",
       "  '00000114.jpg': [],\n",
       "  '00000115.jpg': [],\n",
       "  '00000115.png': [],\n",
       "  '00000116.jpg': [],\n",
       "  '00000118.jpg': [],\n",
       "  '00000119.jpg': [],\n",
       "  '00000120.jpg': [],\n",
       "  '00000121.JPG': [],\n",
       "  '00000122.jpg': [],\n",
       "  '00000123.jpg': [],\n",
       "  '00000124.jpg': ['00000020.jpg'],\n",
       "  '00000125.jpg': [],\n",
       "  '00000126.jpg': [],\n",
       "  '00000127.jpg': [],\n",
       "  '00000128.jpg': [],\n",
       "  '00000129.jpg': [],\n",
       "  '00000130.jpg': [],\n",
       "  '00000131.jpeg': ['00000297.jpeg', '00000028.jpg'],\n",
       "  '00000131.jpg': [],\n",
       "  '00000131.png': [],\n",
       "  '00000132.jpg': [],\n",
       "  '00000133.jpg': [],\n",
       "  '00000134.JPG': [],\n",
       "  '00000135.jpg': [],\n",
       "  '00000135.png': ['00000324.jpg'],\n",
       "  '00000136.jpg': [],\n",
       "  '00000137.jpg': [],\n",
       "  '00000137.png': [],\n",
       "  '00000138.jpg': [],\n",
       "  '00000138.png': [],\n",
       "  '00000139.jpg': [],\n",
       "  '00000139.png': [],\n",
       "  '00000140.jpeg': [],\n",
       "  '00000140.jpg': [],\n",
       "  '00000141.jpg': [],\n",
       "  '00000142.jpg': [],\n",
       "  '00000143.jpg': [],\n",
       "  '00000144.jpeg': [],\n",
       "  '00000144.jpg': [],\n",
       "  '00000145.jpg': [],\n",
       "  '00000145.png': [],\n",
       "  '00000146.jpg': [],\n",
       "  '00000147.jpg': [],\n",
       "  '00000148.jpg': [],\n",
       "  '00000148.png': [],\n",
       "  '00000149.jpg': [],\n",
       "  '00000150.jpg': [],\n",
       "  '00000151.jpg': [],\n",
       "  '00000152.jpg': [],\n",
       "  '00000153.jpg': [],\n",
       "  '00000153.png': [],\n",
       "  '00000154.jpg': [],\n",
       "  '00000155.JPG': [],\n",
       "  '00000155.png': [],\n",
       "  '00000156.jpg': [],\n",
       "  '00000156.png': [],\n",
       "  '00000157.jpg': [],\n",
       "  '00000159.jpg': [],\n",
       "  '00000160.jpg': [],\n",
       "  '00000161.jpg': [],\n",
       "  '00000162.jpg': [],\n",
       "  '00000163.jpg': [],\n",
       "  '00000164.jpg': [],\n",
       "  '00000165.jpeg': [],\n",
       "  '00000165.png': [],\n",
       "  '00000166.jpg': [],\n",
       "  '00000167.jpg': [],\n",
       "  '00000169.jpg': [],\n",
       "  '00000170.jpg': [],\n",
       "  '00000170.png': ['00000300.png'],\n",
       "  '00000171.gif': ['00000325.png'],\n",
       "  '00000171.jpg': ['00000029.jpg'],\n",
       "  '00000172.jpg': [],\n",
       "  '00000173.jpg': [],\n",
       "  '00000174.jpg': [],\n",
       "  '00000175.jpg': [],\n",
       "  '00000176.jpg': [],\n",
       "  '00000176.png': [],\n",
       "  '00000177.jpg': [],\n",
       "  '00000177.png': [],\n",
       "  '00000178.jpg': [],\n",
       "  '00000179.jpg': [],\n",
       "  '00000179.png': ['00000071.png'],\n",
       "  '00000180.jpg': [],\n",
       "  '00000181.jpg': [],\n",
       "  '00000182.jpg': [],\n",
       "  '00000183.jpg': [],\n",
       "  '00000184.jpg': [],\n",
       "  '00000184.png': [],\n",
       "  '00000185.jpg': [],\n",
       "  '00000186.jpg': ['00000321.jpg'],\n",
       "  '00000187.jpg': [],\n",
       "  '00000188.jpg': [],\n",
       "  '00000189.jpg': [],\n",
       "  '00000190.jpg': [],\n",
       "  '00000191.jpg': [],\n",
       "  '00000192.jpg': [],\n",
       "  '00000193.jpg': [],\n",
       "  '00000193.png': [],\n",
       "  '00000194.jpg': [],\n",
       "  '00000195.jpg': [],\n",
       "  '00000196.jpg': [],\n",
       "  '00000197.jpg': [],\n",
       "  '00000198.jpg': [],\n",
       "  '00000198.png': [],\n",
       "  '00000199.jpg': [],\n",
       "  '00000200.jpg': [],\n",
       "  '00000200.png': [],\n",
       "  '00000201.jpg': ['00000268.net%2Fcfile%2Ftistory%2F996D38335A1FB83714'],\n",
       "  '00000201.png': [],\n",
       "  '00000202.jpg': [],\n",
       "  '00000203.jpg': [],\n",
       "  '00000204.jpg': [],\n",
       "  '00000205.jpg': [],\n",
       "  '00000206.jpg': [],\n",
       "  '00000206.png': ['00000112.png'],\n",
       "  '00000207.jpg': [],\n",
       "  '00000207.png': [],\n",
       "  '00000208.jpg': [],\n",
       "  '00000209.jpg': [],\n",
       "  '00000209.png': [],\n",
       "  '00000211.jpg': [],\n",
       "  '00000211.png': [],\n",
       "  '00000212.jpg': [],\n",
       "  '00000213.jpg': ['00000106.jpg'],\n",
       "  '00000214.jpg': [],\n",
       "  '00000215.jpg': [],\n",
       "  '00000216.jpg': [],\n",
       "  '00000216.png': [],\n",
       "  '00000217.jpg': [],\n",
       "  '00000218.jpg': [],\n",
       "  '00000219.jpg': ['00000326.jpg'],\n",
       "  '00000220.jpg': [],\n",
       "  '00000220.png': [],\n",
       "  '00000221.jpg': [],\n",
       "  '00000222.jpg': [],\n",
       "  '00000223.jpg': [],\n",
       "  '00000224.JPG': [],\n",
       "  '00000225.jpg': [],\n",
       "  '00000226.jpg': [],\n",
       "  '00000226.png': ['00000101.jpg'],\n",
       "  '00000227.jpg': [],\n",
       "  '00000227.png': [],\n",
       "  '00000228.jpg': [],\n",
       "  '00000229.jpg': [],\n",
       "  '00000230.jpg': [],\n",
       "  '00000231.jpg': [],\n",
       "  '00000232.jpg': [],\n",
       "  '00000233.jpg': [],\n",
       "  '00000234.jpg': [],\n",
       "  '00000235.jpg': [],\n",
       "  '00000237.jpg': [],\n",
       "  '00000238.jpg': [],\n",
       "  '00000239.jpg': [],\n",
       "  '00000240.jpg': [],\n",
       "  '00000240.png': [],\n",
       "  '00000241.jpg': [],\n",
       "  '00000242.jpg': [],\n",
       "  '00000243.jpeg': [],\n",
       "  '00000243.jpg': [],\n",
       "  '00000244.jpg': [],\n",
       "  '00000245.jpg': [],\n",
       "  '00000246.jpg': [],\n",
       "  '00000247.jpg': [],\n",
       "  '00000248.jpg': [],\n",
       "  '00000248.png': ['00000254.png'],\n",
       "  '00000249.jpg': [],\n",
       "  '00000251.jpg': [],\n",
       "  '00000252.jpg': [],\n",
       "  '00000253.jpg': [],\n",
       "  '00000253.png': [],\n",
       "  '00000254.jpg': [],\n",
       "  '00000254.png': ['00000248.png'],\n",
       "  '00000255.jpg': ['00000334.jpg', '00000266.JPG', '00000083.png'],\n",
       "  '00000256.201492': [],\n",
       "  '00000256.jpg': [],\n",
       "  '00000257.jpg': [],\n",
       "  '00000257.png': [],\n",
       "  '00000258.jpg': [],\n",
       "  '00000259.jpg': [],\n",
       "  '00000260.jpg': [],\n",
       "  '00000261.jpg': [],\n",
       "  '00000262.jpg': [],\n",
       "  '00000263.jpg': [],\n",
       "  '00000264.jpg': [],\n",
       "  '00000264.png': [],\n",
       "  '00000265.jpg': [],\n",
       "  '00000265.png': [],\n",
       "  '00000266.JPG': ['00000083.png', '00000255.jpg', '00000334.jpg'],\n",
       "  '00000267.jpg': [],\n",
       "  '00000268.jpg': [],\n",
       "  '00000268.net%2Fcfile%2Ftistory%2F996D38335A1FB83714': ['00000201.jpg'],\n",
       "  '00000269.jpeg': [],\n",
       "  '00000269.jpg': [],\n",
       "  '00000270.jpg': [],\n",
       "  '00000271.jpeg': [],\n",
       "  '00000271.jpg': [],\n",
       "  '00000272.jpg': [],\n",
       "  '00000273.jpg': [],\n",
       "  '00000274.jpg': [],\n",
       "  '00000275.jpg': [],\n",
       "  '00000276.jpg': [],\n",
       "  '00000276.png': [],\n",
       "  '00000277.jpg': [],\n",
       "  '00000278.jpg': [],\n",
       "  '00000279.jpg': [],\n",
       "  '00000280.jpg': [],\n",
       "  '00000281.jpg': [],\n",
       "  '00000282.jpg': [],\n",
       "  '00000283.jpg': [],\n",
       "  '00000284.jpg': [],\n",
       "  '00000285.jpg': [],\n",
       "  '00000286.gif': [],\n",
       "  '00000286.jpg': [],\n",
       "  '00000287.jpg': [],\n",
       "  '00000288.jpg': [],\n",
       "  '00000289.jpg': [],\n",
       "  '00000290.jpg': [],\n",
       "  '00000290.png': [],\n",
       "  '00000291.jpg': [],\n",
       "  '00000292.jpg': [],\n",
       "  '00000293.jpg': [],\n",
       "  '00000294.jpg': [],\n",
       "  '00000295.png': [],\n",
       "  '00000296.jpg': [],\n",
       "  '00000297.jpeg': ['00000131.jpeg', '00000028.jpg'],\n",
       "  '00000297.jpg': [],\n",
       "  '00000297.png': [],\n",
       "  '00000298.jpg': [],\n",
       "  '00000299.jpg': [],\n",
       "  '00000300.jpg': [],\n",
       "  '00000300.png': ['00000170.png'],\n",
       "  '00000301.jpg': [],\n",
       "  '00000302.jpg': [],\n",
       "  '00000303.jpg': [],\n",
       "  '00000304.jpg': [],\n",
       "  '00000305.jpg': [],\n",
       "  '00000305.png': [],\n",
       "  '00000306.jpg': [],\n",
       "  '00000307.jpg': ['00000325.jpg'],\n",
       "  '00000308.jpg': [],\n",
       "  '00000309.jpg': [],\n",
       "  '00000310.jpg': [],\n",
       "  '00000310.png': [],\n",
       "  '00000311.png': [],\n",
       "  '00000312.jpg': [],\n",
       "  '00000313.jpg': [],\n",
       "  '00000314.jpg': [],\n",
       "  '00000315.jpg': [],\n",
       "  '00000316.jpg': [],\n",
       "  '00000317.jpg': [],\n",
       "  '00000317.jpg&sign=Nj5dsk0p_ZzQc4m8Q8QXClkuw3Qne656MppVzwqTyIE-': [],\n",
       "  '00000318.jpg': [],\n",
       "  '00000318.png': ['00000045.png'],\n",
       "  '00000319.jpg': [],\n",
       "  '00000319.png': [],\n",
       "  '00000320.jpg': ['00000061.jpg'],\n",
       "  '00000321.jpg': ['00000186.jpg'],\n",
       "  '00000321.png': [],\n",
       "  '00000322.jpg': [],\n",
       "  '00000323.jpg': [],\n",
       "  '00000324.jpg': ['00000135.png'],\n",
       "  '00000325.jpg': ['00000307.jpg'],\n",
       "  '00000325.png': ['00000171.gif'],\n",
       "  '00000326.jpg': ['00000219.jpg'],\n",
       "  '00000327.jpeg': [],\n",
       "  '00000328.jpg': [],\n",
       "  '00000329.jpg': [],\n",
       "  '00000330.jpg': [],\n",
       "  '00000331.jpg': [],\n",
       "  '00000332.jpg': [],\n",
       "  '00000333.jpg': [],\n",
       "  '00000334.jpg': ['00000255.jpg', '00000266.JPG', '00000083.png'],\n",
       "  '00000335.jpg': [],\n",
       "  '00000336.jpg': [],\n",
       "  '00000337.jpg': [],\n",
       "  '00000338.jpg': [],\n",
       "  '00000339.jpg': [],\n",
       "  '00000340.jpg': [],\n",
       "  '00000341.jpg': [],\n",
       "  '00000342.jpg': [],\n",
       "  '00000343.jpg': [],\n",
       "  '00000344.jpg': [],\n",
       "  '00000345.png': [],\n",
       "  '00000346.jpg': [],\n",
       "  '00000347.jpg': [],\n",
       "  '00000348.jpg': [],\n",
       "  '00000349.jpg': [],\n",
       "  '00000350.jpg': [],\n",
       "  '00000351.jpg': []},\n",
       " 'urticaria': {'00000000.jpeg': ['00000002.jpeg'],\n",
       "  '00000000.jpg': [],\n",
       "  '00000001.jpg': [],\n",
       "  '00000002.jpeg': ['00000000.jpeg'],\n",
       "  '00000002.JPG': [],\n",
       "  '00000003.jpg': [],\n",
       "  '00000004.jpg': [],\n",
       "  '00000005.jpg': [],\n",
       "  '00000005.png': [],\n",
       "  '00000006.jpg': [],\n",
       "  '00000008.jpeg': [],\n",
       "  '00000008.jpg': [],\n",
       "  '00000009.jpg': [],\n",
       "  '00000010.jpg': [],\n",
       "  '00000011.jpg': [],\n",
       "  '00000012.jpg': [],\n",
       "  '00000013.jpg': ['00000179.jpg'],\n",
       "  '00000014.jpg': [],\n",
       "  '00000015.jpg': ['00000196.jpg'],\n",
       "  '00000015.png': [],\n",
       "  '00000016.jpg': [],\n",
       "  '00000016.png': [],\n",
       "  '00000017.jpg': [],\n",
       "  '00000018.jpg': [],\n",
       "  '00000019.jpg': [],\n",
       "  '00000020.jpg': [],\n",
       "  '00000021.JPG': [],\n",
       "  '00000022.jpeg': ['00000063.jpeg'],\n",
       "  '00000022.jpg': [],\n",
       "  '00000023.jpg': [],\n",
       "  '00000024.jpg': [],\n",
       "  '00000024.png': [],\n",
       "  '00000025.jpg': [],\n",
       "  '00000026.gif': [],\n",
       "  '00000026.jpg': [],\n",
       "  '00000027.jpg': [],\n",
       "  '00000028.jpg': [],\n",
       "  '00000029.jpeg': [],\n",
       "  '00000029.jpg': [],\n",
       "  '00000030.jpg': [],\n",
       "  '00000031.jpg': [],\n",
       "  '00000032.gif': [],\n",
       "  '00000032.jpeg': [],\n",
       "  '00000032.jpg': [],\n",
       "  '00000033.jpg': [],\n",
       "  '00000035.jpg': [],\n",
       "  '00000035.png': [],\n",
       "  '00000036.jpg': [],\n",
       "  '00000037.jpg': [],\n",
       "  '00000038.jpeg': [],\n",
       "  '00000038.jpg': ['00000039.jpg'],\n",
       "  '00000039.jpg': ['00000038.jpg'],\n",
       "  '00000040.jpg': [],\n",
       "  '00000041.jpg': [],\n",
       "  '00000041.png': [],\n",
       "  '00000042.jpg': [],\n",
       "  '00000043.jpg': [],\n",
       "  '00000044.jpg': [],\n",
       "  '00000044.png': [],\n",
       "  '00000045.jpg': [],\n",
       "  '00000046.jpeg': [],\n",
       "  '00000046.jpg': [],\n",
       "  '00000047.jpg': [],\n",
       "  '00000048.jpg': [],\n",
       "  '00000048.png': [],\n",
       "  '00000049.jpg': [],\n",
       "  '00000050.jpg': [],\n",
       "  '00000051.jpg': ['00000082.jpg'],\n",
       "  '00000052.jpg': [],\n",
       "  '00000053.png': [],\n",
       "  '00000054.jpg': [],\n",
       "  '00000055.jpg': [],\n",
       "  '00000056.jpg': [],\n",
       "  '00000057.jpg': ['00000190.jpeg'],\n",
       "  '00000058.gif': [],\n",
       "  '00000058.jpg': [],\n",
       "  '00000059.jpg': [],\n",
       "  '00000060.jpg': ['00000148.jpg'],\n",
       "  '00000061.jpg': ['00000129.jpg'],\n",
       "  '00000062.jpg': [],\n",
       "  '00000063.jpeg': ['00000022.jpeg'],\n",
       "  '00000063.jpg': [],\n",
       "  '00000064.jpg': [],\n",
       "  '00000065.jpg': [],\n",
       "  '00000065.png': [],\n",
       "  '00000066.jpg': [],\n",
       "  '00000066.png': [],\n",
       "  '00000067.jpg': [],\n",
       "  '00000068.jpeg': [],\n",
       "  '00000068.jpg': [],\n",
       "  '00000069.jpg': [],\n",
       "  '00000070.jpg': [],\n",
       "  '00000072.jpg': [],\n",
       "  '00000073.jpg': [],\n",
       "  '00000074.gif': [],\n",
       "  '00000074.jpg': [],\n",
       "  '00000075.jpg': [],\n",
       "  '00000075.png': ['00000326.png'],\n",
       "  '00000076.jpg': [],\n",
       "  '00000077.jpg': [],\n",
       "  '00000077.png': [],\n",
       "  '00000078.jpeg': [],\n",
       "  '00000078.jpg': [],\n",
       "  '00000079.jpeg': [],\n",
       "  '00000080.jpg': [],\n",
       "  '00000081.jpeg': [],\n",
       "  '00000081.jpg': [],\n",
       "  '00000082.jpg': ['00000051.jpg'],\n",
       "  '00000082.png': ['00000294.png', '00000324.png'],\n",
       "  '00000083.jpg': ['00000239.jpg'],\n",
       "  '00000083.png': [],\n",
       "  '00000084.jpg': [],\n",
       "  '00000085.jpg': [],\n",
       "  '00000086.jpg': [],\n",
       "  '00000087.jpg': ['00000312.JPG'],\n",
       "  '00000088.jpg': ['00000268.jpg'],\n",
       "  '00000089.jpg': [],\n",
       "  '00000090.jpg': [],\n",
       "  '00000091.jpg': [],\n",
       "  '00000092.jpg': [],\n",
       "  '00000092.png': [],\n",
       "  '00000093.jpg': [],\n",
       "  '00000094.jpg': [],\n",
       "  '00000095.jpg': [],\n",
       "  '00000096.jpg': [],\n",
       "  '00000097.jpg': [],\n",
       "  '00000098.jpg': [],\n",
       "  '00000099.jpg': [],\n",
       "  '00000100.jpg': [],\n",
       "  '00000100.png': [],\n",
       "  '00000101.jpg': [],\n",
       "  '00000101.png': [],\n",
       "  '00000102.jpg': [],\n",
       "  '00000103.jpg': [],\n",
       "  '00000104.jpg': [],\n",
       "  '00000105.jpeg': [],\n",
       "  '00000105.jpg': [],\n",
       "  '00000106.jpeg': [],\n",
       "  '00000106.jpg': [],\n",
       "  '00000106.png': [],\n",
       "  '00000107.jpg': [],\n",
       "  '00000108.jpg': [],\n",
       "  '00000109.jpg': [],\n",
       "  '00000110.jpg': [],\n",
       "  '00000111.jpg': [],\n",
       "  '00000112.jpg': [],\n",
       "  '00000113.jpg': [],\n",
       "  '00000114.jpg': [],\n",
       "  '00000115.jpg': [],\n",
       "  '00000115.png': [],\n",
       "  '00000116.jpeg': [],\n",
       "  '00000116.jpg': [],\n",
       "  '00000117.jpg': [],\n",
       "  '00000118.jpeg': [],\n",
       "  '00000118.jpg': [],\n",
       "  '00000119.jpg': [],\n",
       "  '00000120.jpg': [],\n",
       "  '00000121.jpg': [],\n",
       "  '00000122.jpg': [],\n",
       "  '00000122.png': [],\n",
       "  '00000123.jpg': [],\n",
       "  '00000124.JPG': [],\n",
       "  '00000125.jpg': [],\n",
       "  '00000126.jpg': [],\n",
       "  '00000127.jpg': [],\n",
       "  '00000128.JPG': [],\n",
       "  '00000128.png': [],\n",
       "  '00000129.gif': [],\n",
       "  '00000129.jpg': ['00000061.jpg'],\n",
       "  '00000130.jpg': [],\n",
       "  '00000131.jpg': ['00000132.jpg'],\n",
       "  '00000132.jpg': ['00000131.jpg'],\n",
       "  '00000132.png': [],\n",
       "  '00000133.jpeg': [],\n",
       "  '00000133.jpg': [],\n",
       "  '00000134.jpg': [],\n",
       "  '00000134.png': [],\n",
       "  '00000135.jpg': [],\n",
       "  '00000136.jpg': [],\n",
       "  '00000136.png': [],\n",
       "  '00000137.jpg': [],\n",
       "  '00000138.jpg': [],\n",
       "  '00000138.png': [],\n",
       "  '00000139.gif': [],\n",
       "  '00000139.jpg': [],\n",
       "  '00000140.jpg': ['00000311.jpg'],\n",
       "  '00000140.png': [],\n",
       "  '00000141.jpg': [],\n",
       "  '00000142.jpg': ['00000170.jpg'],\n",
       "  '00000143.jpg': [],\n",
       "  '00000144.jpg': [],\n",
       "  '00000145.jpg': [],\n",
       "  '00000146.jpg': [],\n",
       "  '00000147.jpg': [],\n",
       "  '00000147.png': [],\n",
       "  '00000148.jpg': ['00000060.jpg'],\n",
       "  '00000149.jpg': [],\n",
       "  '00000150.jpg': [],\n",
       "  '00000151.jpg': [],\n",
       "  '00000152.jpg': [],\n",
       "  '00000153.jpg': [],\n",
       "  '00000154.jpg': [],\n",
       "  '00000155.jpg': [],\n",
       "  '00000156.jpg': [],\n",
       "  '00000157.jpg': [],\n",
       "  '00000158.jpeg': [],\n",
       "  '00000158.jpg': [],\n",
       "  '00000159.gif': [],\n",
       "  '00000159.jpg': [],\n",
       "  '00000159.png': [],\n",
       "  '00000160.jpg': [],\n",
       "  '00000160.png': [],\n",
       "  '00000161.jpg': [],\n",
       "  '00000161.png': [],\n",
       "  '00000162.jpg': [],\n",
       "  '00000163.jpg': ['00000190.JPG'],\n",
       "  '00000163.png': [],\n",
       "  '00000164.jpg': [],\n",
       "  '00000165.jpg': [],\n",
       "  '00000166.jpg': [],\n",
       "  '00000166.png': ['00000167.png'],\n",
       "  '00000167.jpg': ['00000270.JPG'],\n",
       "  '00000167.png': ['00000166.png'],\n",
       "  '00000169.jpg': [],\n",
       "  '00000169.png': [],\n",
       "  '00000170.jpg': ['00000142.jpg'],\n",
       "  '00000171.jpg': [],\n",
       "  '00000172.jpg': ['00000240.JPG'],\n",
       "  '00000173.jpg': [],\n",
       "  '00000173.png': [],\n",
       "  '00000174.jpg': [],\n",
       "  '00000174.png': [],\n",
       "  '00000175.jpg': [],\n",
       "  '00000176.jpg': [],\n",
       "  '00000177.jpg': [],\n",
       "  '00000178.jpg': [],\n",
       "  '00000179.jpg': ['00000013.jpg'],\n",
       "  '00000180.jpg': [],\n",
       "  '00000180.png': [],\n",
       "  '00000181.jpg': [],\n",
       "  '00000182.jpg': [],\n",
       "  '00000183.jpg': [],\n",
       "  '00000184.jpg': [],\n",
       "  '00000185.jpg': ['00000352.png', '00000306.jpg'],\n",
       "  '00000186.jpg': [],\n",
       "  '00000187.jpg': [],\n",
       "  '00000187.png': [],\n",
       "  '00000188.gif': [],\n",
       "  '00000188.jpg': ['00000211.jpg'],\n",
       "  '00000189.jpg': [],\n",
       "  '00000190.jpeg': ['00000057.jpg'],\n",
       "  '00000190.JPG': ['00000163.jpg'],\n",
       "  '00000191.jpg': [],\n",
       "  '00000192.jpg': [],\n",
       "  '00000193.jpg': [],\n",
       "  '00000193.png': [],\n",
       "  '00000194.jpg': [],\n",
       "  '00000195.jpg': [],\n",
       "  '00000196.jpg': ['00000015.jpg'],\n",
       "  '00000196.png': [],\n",
       "  '00000198.jpg': ['00000204.jpg'],\n",
       "  '00000199.jpg': [],\n",
       "  '00000200.jpg': [],\n",
       "  '00000201.jpg': ['00000210.jpg'],\n",
       "  '00000202.jpeg': [],\n",
       "  '00000202.jpg': [],\n",
       "  '00000203.jpg': [],\n",
       "  '00000204.jpg': ['00000198.jpg'],\n",
       "  '00000204.png': [],\n",
       "  '00000205.jpg': [],\n",
       "  '00000206.jpg': [],\n",
       "  '00000206.png': [],\n",
       "  '00000207.jpg': [],\n",
       "  '00000208.jpg': [],\n",
       "  '00000209.jpg': [],\n",
       "  '00000210.jpg': ['00000201.jpg'],\n",
       "  '00000211.jpg': ['00000188.jpg'],\n",
       "  '00000212.jpg': [],\n",
       "  '00000213.jpeg': [],\n",
       "  '00000213.jpg': [],\n",
       "  '00000214.jpg': [],\n",
       "  '00000215.jpeg': [],\n",
       "  '00000215.jpg': [],\n",
       "  '00000216.jpg': ['00000226.jpg'],\n",
       "  '00000216.png': [],\n",
       "  '00000217.jpg': [],\n",
       "  '00000218.gif': [],\n",
       "  '00000218.jpg': [],\n",
       "  '00000218.png': [],\n",
       "  '00000219.jpg': [],\n",
       "  '00000220.jpg': [],\n",
       "  '00000221.jpg': [],\n",
       "  '00000222.jpg': [],\n",
       "  '00000222.png': [],\n",
       "  '00000223.jpg': [],\n",
       "  '00000224.jpg': [],\n",
       "  '00000226.jpg': ['00000216.jpg'],\n",
       "  '00000227.jpg': [],\n",
       "  '00000228.jpg': [],\n",
       "  '00000229.jpg': [],\n",
       "  '00000230.jpeg': [],\n",
       "  '00000230.jpg': [],\n",
       "  '00000231.jpg': [],\n",
       "  '00000232.jpg': [],\n",
       "  '00000233.jpg': [],\n",
       "  '00000234.jpg': [],\n",
       "  '00000235.gif': [],\n",
       "  '00000235.jpg': [],\n",
       "  '00000236.jpg': [],\n",
       "  '00000237.jpg': [],\n",
       "  '00000238.jpg': [],\n",
       "  '00000239.jpg': ['00000083.jpg'],\n",
       "  '00000240.JPG': ['00000172.jpg'],\n",
       "  '00000241.jpeg': [],\n",
       "  '00000241.jpg': [],\n",
       "  '00000242.jpg': [],\n",
       "  '00000242.png': [],\n",
       "  '00000243.jpg': [],\n",
       "  '00000243.png': [],\n",
       "  '00000244.gif': [],\n",
       "  '00000244.jpg': [],\n",
       "  '00000245.jpg': [],\n",
       "  '00000246.jpg': [],\n",
       "  '00000247.jpg': [],\n",
       "  '00000248.jpg': [],\n",
       "  '00000249.jpg': [],\n",
       "  '00000249.png': [],\n",
       "  '00000250.jpeg': [],\n",
       "  '00000250.jpg': [],\n",
       "  '00000251.jpg': [],\n",
       "  '00000252.jpg': [],\n",
       "  '00000253.jpg': [],\n",
       "  '00000253.png': [],\n",
       "  '00000254.jpg': [],\n",
       "  '00000255.jpg': [],\n",
       "  '00000256.jpg': [],\n",
       "  '00000258.jpg': [],\n",
       "  '00000259.jpg': [],\n",
       "  '00000259.png': [],\n",
       "  '00000260.jpg': [],\n",
       "  '00000261.jpg': [],\n",
       "  '00000262.jpg': [],\n",
       "  '00000263.jpg': [],\n",
       "  '00000264.jpeg': [],\n",
       "  '00000264.JPG': [],\n",
       "  '00000265.jpg': [],\n",
       "  '00000266.jpg': [],\n",
       "  '00000267.jpg': [],\n",
       "  '00000268.jpg': ['00000088.jpg'],\n",
       "  '00000268.png': [],\n",
       "  '00000269.jpg': [],\n",
       "  '00000270.JPG': ['00000167.jpg'],\n",
       "  '00000271.jpg': [],\n",
       "  '00000272.jpg': [],\n",
       "  '00000272.png': [],\n",
       "  '00000273.jpg': [],\n",
       "  '00000274.jpg': [],\n",
       "  '00000275.JPG': [],\n",
       "  '00000276.JPG': [],\n",
       "  '00000277.jpg': ['00000287.JPG'],\n",
       "  '00000278.jpg': [],\n",
       "  '00000279.jpeg': ['00000361.jpeg'],\n",
       "  '00000279.jpg': [],\n",
       "  '00000280.jpg': [],\n",
       "  '00000281.gif': [],\n",
       "  '00000281.JPG': [],\n",
       "  '00000281.png': [],\n",
       "  '00000282.JPG': [],\n",
       "  '00000283.jpg': [],\n",
       "  '00000284.jpg': [],\n",
       "  '00000284.png': [],\n",
       "  '00000285.jpeg': ['00000299.jpeg', '00000328.jpeg'],\n",
       "  '00000285.jpg': [],\n",
       "  '00000286.jpg': [],\n",
       "  '00000286.png': [],\n",
       "  '00000287.JPG': ['00000277.jpg'],\n",
       "  '00000288.jpg': [],\n",
       "  '00000289.jpg': [],\n",
       "  '00000290.jpg': [],\n",
       "  '00000291.jpg': [],\n",
       "  '00000292.jpg': [],\n",
       "  '00000292.png': [],\n",
       "  '00000293.jpg': [],\n",
       "  '00000293.png': [],\n",
       "  '00000294.jpg': [],\n",
       "  '00000294.png': ['00000324.png', '00000082.png'],\n",
       "  '00000295.jpg': [],\n",
       "  '00000296.jpg': [],\n",
       "  '00000297.jpg': [],\n",
       "  '00000298.jpg': [],\n",
       "  '00000299.jpeg': ['00000285.jpeg', '00000328.jpeg'],\n",
       "  '00000299.jpg': [],\n",
       "  '00000300.jpg': [],\n",
       "  '00000300.png': [],\n",
       "  '00000301.jpg': [],\n",
       "  '00000302.jpg': [],\n",
       "  '00000303.jpg': ['00000327.jpg'],\n",
       "  '00000304.jpeg': [],\n",
       "  '00000304.jpg': [],\n",
       "  '00000305.jpg': [],\n",
       "  '00000305.png': [],\n",
       "  '00000306.jpg': ['00000352.png', '00000185.jpg'],\n",
       "  '00000306.png': [],\n",
       "  '00000307.jpg': [],\n",
       "  '00000308.jpg': ['00000339.jpg'],\n",
       "  '00000309.jpeg': [],\n",
       "  '00000309.jpg': [],\n",
       "  '00000310.jpg': [],\n",
       "  '00000310.png': [],\n",
       "  '00000311.jpg': ['00000140.jpg'],\n",
       "  '00000312.JPG': ['00000087.jpg'],\n",
       "  '00000313.jpg': [],\n",
       "  '00000313.png': [],\n",
       "  '00000314.jpg': [],\n",
       "  '00000315.jpg': [],\n",
       "  '00000316.jpg': [],\n",
       "  '00000317.jpg': [],\n",
       "  '00000317.png': [],\n",
       "  '00000318.jpg': [],\n",
       "  '00000319.jpg': [],\n",
       "  '00000320.jpg': [],\n",
       "  '00000321.gif': ['00000374.gif'],\n",
       "  '00000321.png': [],\n",
       "  '00000322.jpg': [],\n",
       "  '00000323.jpg': [],\n",
       "  '00000324.jpg': [],\n",
       "  '00000324.png': ['00000294.png', '00000082.png'],\n",
       "  '00000325.jpg': [],\n",
       "  '00000326.jpg': [],\n",
       "  '00000326.png': ['00000075.png'],\n",
       "  '00000327.jpg': ['00000303.jpg'],\n",
       "  '00000328.jpeg': ['00000285.jpeg', '00000299.jpeg'],\n",
       "  '00000328.jpg': [],\n",
       "  '00000329.jpg': [],\n",
       "  '00000330.jpg': [],\n",
       "  '00000330.png': [],\n",
       "  '00000331.jpg': [],\n",
       "  '00000331.png': [],\n",
       "  '00000332.jpg': [],\n",
       "  '00000333.jpg': [],\n",
       "  '00000334.jpg': [],\n",
       "  '00000336.jpg': [],\n",
       "  '00000337.jpeg': [],\n",
       "  '00000337.jpg': [],\n",
       "  '00000337.png': [],\n",
       "  '00000338.jpg': [],\n",
       "  '00000339.jpg': ['00000308.jpg'],\n",
       "  '00000342.jpg': [],\n",
       "  '00000343.5&h=380&mode=&q=80&w=1105&s=6050b936d9cda7d79fecc2a19f3b2453': [],\n",
       "  '00000344.jpg': [],\n",
       "  '00000345.jpg': [],\n",
       "  '00000346.jpg': [],\n",
       "  '00000347.jpg': [],\n",
       "  '00000348.jpg': [],\n",
       "  '00000349.jpg': [],\n",
       "  '00000350.JPG': [],\n",
       "  '00000351.jpg': [],\n",
       "  '00000352.jpg': [],\n",
       "  '00000352.png': ['00000185.jpg', '00000306.jpg'],\n",
       "  '00000353.gif': [],\n",
       "  '00000353.jpg': [],\n",
       "  '00000354.jpg': [],\n",
       "  '00000355.png': [],\n",
       "  '00000356.jpg': [],\n",
       "  '00000358.png': [],\n",
       "  '00000359.jpg': [],\n",
       "  '00000360.jpg': [],\n",
       "  '00000361.jpeg': ['00000279.jpeg'],\n",
       "  '00000362.JPG': [],\n",
       "  '00000363.jpg': [],\n",
       "  '00000365.jpg': [],\n",
       "  '00000366.jpg': [],\n",
       "  '00000367.jpg': [],\n",
       "  '00000369.jpg': [],\n",
       "  '00000370.png': [],\n",
       "  '00000371.jpg': [],\n",
       "  '00000372.77&heighth=100&heightx=0&heighty=0&width=1200&height=630': [],\n",
       "  '00000373.jpg': [],\n",
       "  '00000374.gif': ['00000321.gif']}}"
      ]
     },
     "execution_count": 72,
     "metadata": {},
     "output_type": "execute_result"
    }
   ],
   "source": [
    "duplicates"
   ]
  },
  {
   "cell_type": "code",
   "execution_count": null,
   "metadata": {
    "gradient": {},
    "hidden": true
   },
   "outputs": [],
   "source": [
    "import re\n",
    "\n",
    "for rash_type, dupl_dict in duplicates.items():\n",
    "\n",
    "    for key, dupl_list in dupl_dict.items():\n",
    "        if dupl_list: # only selecting non-empty values (i.e. there are duplicates)\n",
    "\n",
    "            for dupl in dupl_list:\n",
    "                if dupl>key: # if the duplicate filename > key filename, the duplicate is deleted\n",
    "                    if os.path.exists(os.path.join(path,rash_type,dupl)):\n",
    "                        os.remove(os.path.join(path,rash_type,dupl)) \n",
    "                elif dupl<key: # this means one of the duplicates has already been deleted\n",
    "                    continue"
   ]
  },
  {
   "cell_type": "code",
   "execution_count": null,
   "metadata": {
    "gradient": {},
    "hidden": true
   },
   "outputs": [
    {
     "name": "stdout",
     "output_type": "stream",
     "text": [
      "Number of images per category after removing duplicates:\n",
      "erysipelas           324\n",
      "erythema_migrans     448\n",
      "insect_bite          383\n",
      "tinea_corporis       413\n",
      "urticaria            444\n"
     ]
    }
   ],
   "source": [
    "# number of images after removing duplicates\n",
    "print(\"Number of images per category after removing duplicates:\")\n",
    "for filename in os.listdir(path):\n",
    "    print(\"{:<20} {}\".format(filename, len(os.listdir(path/filename))))"
   ]
  },
  {
   "cell_type": "markdown",
   "metadata": {
    "hidden": true
   },
   "source": [
    "|After removing duplicates:|Number of images per category|\n",
    "|---|---|\n",
    "|erysipelas|           324|\n",
    "|erythema_migrans|     448|\n",
    "|insect_bite|          383|\n",
    "|tinea_corporis|       413|\n",
    "|urticaria|            444|"
   ]
  },
  {
   "cell_type": "markdown",
   "metadata": {
    "heading_collapsed": true,
    "hidden": true
   },
   "source": [
    "#### Manual cleaning of data"
   ]
  },
  {
   "cell_type": "markdown",
   "metadata": {
    "hidden": true
   },
   "source": [
    "- images that did not match the category (i.e. not showing images of skin diseases) were removed\n",
    "- images that displayed a different disease were removed\n",
    "- where unsure about the diagnosis, the photo was inserted into a google image search, looking up the context of the image and related text\n",
    "- bigger tile images (consisting of several photos) were split into individual images\n",
    "- if there was writing in an image (with the name of the diagnosis), the writing was cut off"
   ]
  },
  {
   "cell_type": "code",
   "execution_count": null,
   "metadata": {
    "gradient": {},
    "hidden": true
   },
   "outputs": [],
   "source": [
    "path = Path(\"rash\")"
   ]
  },
  {
   "cell_type": "code",
   "execution_count": null,
   "metadata": {
    "gradient": {},
    "hidden": true
   },
   "outputs": [
    {
     "name": "stdout",
     "output_type": "stream",
     "text": [
      "Number of images per category after cleaning of data:\n",
      "erysipelas           184\n",
      "erythema_migrans     149\n",
      "insect_bite          44\n",
      "tinea_corporis       174\n",
      "urticaria            116\n"
     ]
    }
   ],
   "source": [
    "# number of images after manual cleaning of data\n",
    "print(\"Number of images per category after cleaning of data:\")\n",
    "for filename in os.listdir(path):\n",
    "    print(\"{:<20} {}\".format(filename, len(os.listdir(path/filename))))"
   ]
  },
  {
   "cell_type": "markdown",
   "metadata": {
    "hidden": true
   },
   "source": [
    "|After manual cleaning of data:|Number of images per category|\n",
    "|---|---|\n",
    "|erysipelas|           184|\n",
    "|erythema_migrans|     149|\n",
    "|insect_bite|          44|\n",
    "|tinea_corporis|       174|\n",
    "|urticaria|            116|"
   ]
  },
  {
   "cell_type": "code",
   "execution_count": null,
   "metadata": {
    "gradient": {},
    "hidden": true
   },
   "outputs": [
    {
     "name": "stdout",
     "output_type": "stream",
     "text": [
      "Sum of all image files:  667\n"
     ]
    }
   ],
   "source": [
    "print(\"Sum of all image files: \", sum([len(files) for root, dirs, files in os.walk(\"rash\")]))"
   ]
  },
  {
   "cell_type": "markdown",
   "metadata": {
    "heading_collapsed": true,
    "hidden": true
   },
   "source": [
    "#### Distribution of data among the classes: Imbalanced dataset"
   ]
  },
  {
   "cell_type": "markdown",
   "metadata": {
    "hidden": true
   },
   "source": [
    "Number of images per category after cleaning of data:"
   ]
  },
  {
   "cell_type": "code",
   "execution_count": 34,
   "metadata": {
    "code_folding": [
     0
    ],
    "gradient": {},
    "hidden": true
   },
   "outputs": [
    {
     "data": {
      "text/html": [
       "<div>\n",
       "<style scoped>\n",
       "    .dataframe tbody tr th:only-of-type {\n",
       "        vertical-align: middle;\n",
       "    }\n",
       "\n",
       "    .dataframe tbody tr th {\n",
       "        vertical-align: top;\n",
       "    }\n",
       "\n",
       "    .dataframe thead th {\n",
       "        text-align: right;\n",
       "    }\n",
       "</style>\n",
       "<table border=\"1\" class=\"dataframe\">\n",
       "  <thead>\n",
       "    <tr style=\"text-align: right;\">\n",
       "      <th></th>\n",
       "      <th>number of images</th>\n",
       "      <th>Percentage</th>\n",
       "    </tr>\n",
       "  </thead>\n",
       "  <tbody>\n",
       "    <tr>\n",
       "      <th>erysipelas</th>\n",
       "      <td>184.0</td>\n",
       "      <td>27.6</td>\n",
       "    </tr>\n",
       "    <tr>\n",
       "      <th>erythema_migrans</th>\n",
       "      <td>149.0</td>\n",
       "      <td>22.3</td>\n",
       "    </tr>\n",
       "    <tr>\n",
       "      <th>insect_bite</th>\n",
       "      <td>44.0</td>\n",
       "      <td>6.6</td>\n",
       "    </tr>\n",
       "    <tr>\n",
       "      <th>tinea_corporis</th>\n",
       "      <td>174.0</td>\n",
       "      <td>26.1</td>\n",
       "    </tr>\n",
       "    <tr>\n",
       "      <th>urticaria</th>\n",
       "      <td>116.0</td>\n",
       "      <td>17.4</td>\n",
       "    </tr>\n",
       "    <tr>\n",
       "      <th>Total</th>\n",
       "      <td>667.0</td>\n",
       "      <td>100.0</td>\n",
       "    </tr>\n",
       "  </tbody>\n",
       "</table>\n",
       "</div>"
      ],
      "text/plain": [
       "                  number of images  Percentage\n",
       "erysipelas                   184.0        27.6\n",
       "erythema_migrans             149.0        22.3\n",
       "insect_bite                   44.0         6.6\n",
       "tinea_corporis               174.0        26.1\n",
       "urticaria                    116.0        17.4\n",
       "Total                        667.0       100.0"
      ]
     },
     "execution_count": 34,
     "metadata": {},
     "output_type": "execute_result"
    }
   ],
   "source": [
    "# displaying the number of images per category\n",
    "\n",
    "table_counts = pd.DataFrame({'number of images': [184,149,44,174,116]}, index=['erysipelas', 'erythema_migrans', 'insect_bite', 'tinea_corporis', 'urticaria'])\n",
    "table_counts[\"Percentage\"]= (table_counts[\"number of images\"]/table_counts[\"number of images\"].sum()*100).round(1)\n",
    "table_counts.append(table_counts.sum().rename('Total'))"
   ]
  },
  {
   "cell_type": "code",
   "execution_count": 37,
   "metadata": {
    "gradient": {},
    "hidden": true
   },
   "outputs": [
    {
     "data": {
      "text/plain": [
       "<matplotlib.lines.Line2D at 0x1fbc89a8fc8>"
      ]
     },
     "execution_count": 37,
     "metadata": {},
     "output_type": "execute_result"
    },
    {
     "data": {
      "image/png": "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\n",
      "text/plain": [
       "<Figure size 432x288 with 1 Axes>"
      ]
     },
     "metadata": {
      "needs_background": "light"
     },
     "output_type": "display_data"
    }
   ],
   "source": [
    "table_counts[\"Percentage\"].plot.bar(legend=False)\n",
    "plt.ylabel(\"Percentage of total images (%)\")\n",
    "plt.axhline(20)"
   ]
  },
  {
   "cell_type": "markdown",
   "metadata": {
    "hidden": true
   },
   "source": [
    "The dataset shows to have an uneven number of images for each class, it is an imbalanced dataset. For example, the images for insect bites only make up 7% of the total images, in comparison with 28% for erysipelas.\n",
    "\n",
    "This is a problem for multi-class-classification and its evaluation of accuracy, which will be affected by the dominant classes. In order to deal with this, it would be possible to perform oversampling of data in the underrepresented classes or undersampling of data in the more prominent classes (Li 2016). In this project, oversampling of the minor classes could easily lead to overfitting of the model on the training data, whereas undersampling, i.e. deleting images in the bigger classes, would lead to information loss."
   ]
  },
  {
   "cell_type": "markdown",
   "metadata": {
    "hidden": true
   },
   "source": [
    "Due to the imbalanced nature of the dataset, I decided to leave out the class for insect bites for building the model. The resulting data would be more balanced, as seen below. The categories would each represent approximately 25% of the data, with urticaria still being a bit underrepresented nevertheless."
   ]
  },
  {
   "cell_type": "code",
   "execution_count": 33,
   "metadata": {
    "code_folding": [
     0
    ],
    "gradient": {},
    "hidden": true
   },
   "outputs": [
    {
     "data": {
      "text/plain": [
       "<matplotlib.lines.Line2D at 0x1fbc8855f48>"
      ]
     },
     "execution_count": 33,
     "metadata": {},
     "output_type": "execute_result"
    },
    {
     "data": {
      "image/png": "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\n",
      "text/plain": [
       "<Figure size 432x288 with 1 Axes>"
      ]
     },
     "metadata": {
      "needs_background": "light"
     },
     "output_type": "display_data"
    }
   ],
   "source": [
    "# percentage of images per category with only four classes\n",
    "table_counts_four_classes = pd.DataFrame({'number of images': [184,149,174,116]}, index=['erysipelas', 'erythema_migrans', 'tinea_corporis', 'urticaria'])\n",
    "table_counts_four_classes[\"Percentage\"]= (table_counts_four_classes[\"number of images\"]/table_counts_four_classes[\"number of images\"].sum()*100).round(1)\n",
    "\n",
    "table_counts_four_classes[\"Percentage\"].plot.bar(legend=False)\n",
    "plt.ylabel(\"Percentage of total images (%)\")\n",
    "plt.axhline(25)"
   ]
  },
  {
   "cell_type": "markdown",
   "metadata": {
    "heading_collapsed": true,
    "hidden": true
   },
   "source": [
    "### Splitting off a test set"
   ]
  },
  {
   "cell_type": "code",
   "execution_count": null,
   "metadata": {
    "gradient": {},
    "hidden": true
   },
   "outputs": [
    {
     "name": "stderr",
     "output_type": "stream",
     "text": [
      "Copying files: 667 files [00:02, 321.57 files/s]\n"
     ]
    }
   ],
   "source": [
    "import splitfolders\n",
    "\n",
    "splitfolders.ratio(\"rash\", output=\"rash_train_test\", seed=rd_seed, ratio=(.9, .0, .1), group_prefix=None) # just creating a train and a test set (randomly), leaving val empty (validation set will be split off later in the data block API)\n",
    "\n",
    "shutil.rmtree('./rash_train_test/val') # deleting the empty validation folder"
   ]
  },
  {
   "cell_type": "code",
   "execution_count": null,
   "metadata": {
    "gradient": {},
    "hidden": true
   },
   "outputs": [
    {
     "name": "stdout",
     "output_type": "stream",
     "text": [
      "Size of the test set:  69\n"
     ]
    }
   ],
   "source": [
    "print(\"Size of the test set: \",sum([len(files) for root, dirs, files in os.walk(\"rash_train_test/test\")]))"
   ]
  },
  {
   "cell_type": "code",
   "execution_count": null,
   "metadata": {
    "gradient": {},
    "hidden": true,
    "scrolled": true
   },
   "outputs": [
    {
     "name": "stdout",
     "output_type": "stream",
     "text": [
      "Size of the remaining set (train+validation):  598\n"
     ]
    }
   ],
   "source": [
    "print(\"Size of the remaining set (train+validation): \", sum([len(files) for root, dirs, files in os.walk(\"rash_train_test/train\")]))"
   ]
  },
  {
   "cell_type": "markdown",
   "metadata": {
    "hidden": true
   },
   "source": [
    "Note: the insect_bite class is still included here and will only be removed in the next step."
   ]
  },
  {
   "cell_type": "markdown",
   "metadata": {
    "heading_collapsed": true,
    "hidden": true
   },
   "source": [
    "### Providing the model with the data"
   ]
  },
  {
   "cell_type": "markdown",
   "metadata": {
    "hidden": true
   },
   "source": [
    "The image data was uploaded into the cloud (paperspace gradient was used in this project)."
   ]
  },
  {
   "cell_type": "code",
   "execution_count": null,
   "metadata": {
    "gradient": {},
    "hidden": true
   },
   "outputs": [],
   "source": [
    "# unzipping the uploaded data\n",
    "\n",
    "# import zipfile\n",
    "# with zipfile.ZipFile(\"rash_train_test.zip\",\"r\") as zip_ref:\n",
    "#     zip_ref.extractall()"
   ]
  },
  {
   "cell_type": "markdown",
   "metadata": {
    "hidden": true
   },
   "source": [
    "Removing the 'insect_bite' class:"
   ]
  },
  {
   "cell_type": "code",
   "execution_count": null,
   "metadata": {
    "code_folding": [],
    "gradient": {},
    "hidden": true
   },
   "outputs": [],
   "source": [
    "# removing the insect_bite class in both training and test set\n",
    "\n",
    "# shutil.rmtree('rash_train_test/train/insect_bite')\n",
    "# shutil.rmtree('rash_train_test/test/insect_bite')"
   ]
  },
  {
   "cell_type": "code",
   "execution_count": 2,
   "metadata": {
    "gradient": {},
    "hidden": true
   },
   "outputs": [],
   "source": [
    "# setting the path variable to the folder with the training data\n",
    "path = Path(\"rash_train_test/train\")"
   ]
  },
  {
   "cell_type": "code",
   "execution_count": null,
   "metadata": {
    "gradient": {},
    "hidden": true
   },
   "outputs": [],
   "source": [
    "# convert all images to RGBA\n",
    "\n",
    "# for file in path.glob('*/*.jpg'):\n",
    "#     im = PIL.Image.open(file)\n",
    "#     if im.mode != 'RGB':\n",
    "#         im.convert('RGB').save(file)\n",
    "\n",
    "# for file in path.glob('*/*.png'):\n",
    "#     im = PIL.Image.open(file)\n",
    "#     if im.mode != 'RGB':\n",
    "#         im.convert('RGB').save(file)"
   ]
  },
  {
   "cell_type": "markdown",
   "metadata": {
    "hidden": true
   },
   "source": [
    "Number of images in training and test set used for building the model:"
   ]
  },
  {
   "cell_type": "code",
   "execution_count": null,
   "metadata": {
    "gradient": {},
    "hidden": true
   },
   "outputs": [
    {
     "name": "stdout",
     "output_type": "stream",
     "text": [
      "Size of the test set:  64\n"
     ]
    }
   ],
   "source": [
    "print(\"Size of the test set: \",sum([len(files) for root, dirs, files in os.walk(\"rash_train_test/test\")]))"
   ]
  },
  {
   "cell_type": "code",
   "execution_count": null,
   "metadata": {
    "code_folding": [
     0
    ],
    "gradient": {},
    "hidden": true
   },
   "outputs": [
    {
     "name": "stdout",
     "output_type": "stream",
     "text": [
      "0 test\n",
      "19 erysipelas\n",
      "18 tinea_corporis\n",
      "12 urticaria\n",
      "15 erythema_migrans\n"
     ]
    }
   ],
   "source": [
    "# Number of images per category in the test set\n",
    "for root, dirs, files in os.walk(\"rash_train_test/test\"):\n",
    "    dirname, basename = os.path.split(root)\n",
    "    print(len(files), basename)"
   ]
  },
  {
   "cell_type": "code",
   "execution_count": null,
   "metadata": {
    "gradient": {},
    "hidden": true
   },
   "outputs": [
    {
     "name": "stdout",
     "output_type": "stream",
     "text": [
      "Size of the remaining set (train+validation):  559\n"
     ]
    }
   ],
   "source": [
    "print(\"Size of the remaining set (train+validation): \", sum([len(files) for root, dirs, files in os.walk(\"rash_train_test/train\")]))"
   ]
  },
  {
   "cell_type": "code",
   "execution_count": null,
   "metadata": {
    "code_folding": [
     0
    ],
    "gradient": {},
    "hidden": true
   },
   "outputs": [
    {
     "name": "stdout",
     "output_type": "stream",
     "text": [
      "0 train\n",
      "165 erysipelas\n",
      "156 tinea_corporis\n",
      "104 urticaria\n",
      "134 erythema_migrans\n"
     ]
    }
   ],
   "source": [
    "# Number of images per category in the training and validation set\n",
    "\n",
    "for root, dirs, files in os.walk(\"rash_train_test/train\"):\n",
    "    dirname, basename = os.path.split(root)\n",
    "    print(len(files), basename)"
   ]
  },
  {
   "cell_type": "markdown",
   "metadata": {
    "heading_collapsed": true
   },
   "source": [
    "## Buildung the neural network using transfer learning <a name=\"building_model\"></a>"
   ]
  },
  {
   "cell_type": "markdown",
   "metadata": {
    "hidden": true
   },
   "source": [
    "**Resnet18 with discriminative learning rates**"
   ]
  },
  {
   "cell_type": "code",
   "execution_count": 2,
   "metadata": {
    "gradient": {},
    "hidden": true
   },
   "outputs": [],
   "source": [
    "# setting the path variable to the folder with the training data\n",
    "path = Path(\"rash_train_test/train\")"
   ]
  },
  {
   "cell_type": "code",
   "execution_count": 53,
   "metadata": {
    "gradient": {},
    "hidden": true
   },
   "outputs": [],
   "source": [
    "# defining a seed for reproducible results\n",
    "rd_seed = 42"
   ]
  },
  {
   "cell_type": "code",
   "execution_count": 54,
   "metadata": {
    "gradient": {},
    "hidden": true
   },
   "outputs": [],
   "source": [
    "# using the data block API\n",
    "\n",
    "rashes = DataBlock(\n",
    "        blocks = (ImageBlock, CategoryBlock), # images as the independent variable, label (category) as the dependent variable\n",
    "        get_items = get_image_files, # images in the path are provided\n",
    "        splitter = RandomSplitter(valid_pct=0.2, seed=rd_seed), # splitting off 20% of the data as a validation set\n",
    "        get_y = parent_label, # the folder name serves as the label for the images\n",
    "        item_tfms = Resize(460), # images need to be of the same size, all images are initially large\n",
    "        batch_tfms = aug_transforms(size=224, min_scale=0.75)) # subsequent augmentation and resizing to smaller size"
   ]
  },
  {
   "cell_type": "code",
   "execution_count": 55,
   "metadata": {
    "gradient": {},
    "hidden": true
   },
   "outputs": [],
   "source": [
    "set_seed(rd_seed, True) # to get reproducible results"
   ]
  },
  {
   "cell_type": "code",
   "execution_count": 56,
   "metadata": {
    "gradient": {},
    "hidden": true
   },
   "outputs": [],
   "source": [
    "# creating a data loaders object to provide the model with the data\n",
    "dls = rashes.dataloaders(path, seed=rd_seed)"
   ]
  },
  {
   "cell_type": "markdown",
   "metadata": {
    "hidden": true
   },
   "source": [
    "Model definition"
   ]
  },
  {
   "cell_type": "code",
   "execution_count": 57,
   "metadata": {
    "gradient": {},
    "hidden": true
   },
   "outputs": [],
   "source": [
    "set_seed(rd_seed, True) # to get reproducible results"
   ]
  },
  {
   "cell_type": "code",
   "execution_count": 58,
   "metadata": {
    "gradient": {},
    "hidden": true
   },
   "outputs": [],
   "source": [
    "learn = cnn_learner(dls, resnet18, metrics=error_rate)"
   ]
  },
  {
   "cell_type": "markdown",
   "metadata": {
    "hidden": true
   },
   "source": [
    "Learning Rate Finder to optimize the learning rate for model training"
   ]
  },
  {
   "cell_type": "code",
   "execution_count": 59,
   "metadata": {
    "gradient": {},
    "hidden": true
   },
   "outputs": [
    {
     "data": {
      "text/html": [],
      "text/plain": [
       "<IPython.core.display.HTML object>"
      ]
     },
     "metadata": {},
     "output_type": "display_data"
    },
    {
     "data": {
      "image/png": "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\n",
      "text/plain": [
       "<Figure size 432x288 with 1 Axes>"
      ]
     },
     "metadata": {
      "needs_background": "light"
     },
     "output_type": "display_data"
    }
   ],
   "source": [
    "lr_min, lr_steep = learn.lr_find()"
   ]
  },
  {
   "cell_type": "code",
   "execution_count": 60,
   "metadata": {
    "gradient": {},
    "hidden": true
   },
   "outputs": [
    {
     "name": "stdout",
     "output_type": "stream",
     "text": [
      "Min/10:1.00e-02, steepest point:1.74e-03\n"
     ]
    }
   ],
   "source": [
    "print(f\"Min/10:{lr_min:.2e}, steepest point:{lr_steep:.2e}\")"
   ]
  },
  {
   "cell_type": "markdown",
   "metadata": {
    "hidden": true
   },
   "source": [
    "Training the model: only the last layers (with random weights) are trained for a few epochs, the first layers (that are pretrained) are frozen"
   ]
  },
  {
   "cell_type": "code",
   "execution_count": 61,
   "metadata": {
    "gradient": {},
    "hidden": true
   },
   "outputs": [],
   "source": [
    "set_seed(rd_seed, True) # to get reproducible results"
   ]
  },
  {
   "cell_type": "code",
   "execution_count": 62,
   "metadata": {
    "gradient": {},
    "hidden": true
   },
   "outputs": [
    {
     "data": {
      "text/html": [
       "<table border=\"1\" class=\"dataframe\">\n",
       "  <thead>\n",
       "    <tr style=\"text-align: left;\">\n",
       "      <th>epoch</th>\n",
       "      <th>train_loss</th>\n",
       "      <th>valid_loss</th>\n",
       "      <th>error_rate</th>\n",
       "      <th>time</th>\n",
       "    </tr>\n",
       "  </thead>\n",
       "  <tbody>\n",
       "    <tr>\n",
       "      <td>0</td>\n",
       "      <td>2.381477</td>\n",
       "      <td>2.003787</td>\n",
       "      <td>0.621622</td>\n",
       "      <td>00:06</td>\n",
       "    </tr>\n",
       "    <tr>\n",
       "      <td>1</td>\n",
       "      <td>1.932126</td>\n",
       "      <td>1.208372</td>\n",
       "      <td>0.405405</td>\n",
       "      <td>00:07</td>\n",
       "    </tr>\n",
       "    <tr>\n",
       "      <td>2</td>\n",
       "      <td>1.662031</td>\n",
       "      <td>1.025908</td>\n",
       "      <td>0.396396</td>\n",
       "      <td>00:07</td>\n",
       "    </tr>\n",
       "  </tbody>\n",
       "</table>"
      ],
      "text/plain": [
       "<IPython.core.display.HTML object>"
      ]
     },
     "metadata": {},
     "output_type": "display_data"
    }
   ],
   "source": [
    "learn.fit_one_cycle(3, 1e-3)"
   ]
  },
  {
   "cell_type": "code",
   "execution_count": 63,
   "metadata": {
    "gradient": {},
    "hidden": true
   },
   "outputs": [],
   "source": [
    "set_seed(rd_seed, True) # to get reproducible results"
   ]
  },
  {
   "cell_type": "code",
   "execution_count": 64,
   "metadata": {
    "gradient": {},
    "hidden": true
   },
   "outputs": [],
   "source": [
    "learn.unfreeze() # unfreezing the early layers"
   ]
  },
  {
   "cell_type": "markdown",
   "metadata": {
    "hidden": true
   },
   "source": [
    "Finding new learning rate for the overall model"
   ]
  },
  {
   "cell_type": "code",
   "execution_count": 65,
   "metadata": {
    "gradient": {},
    "hidden": true
   },
   "outputs": [],
   "source": [
    "set_seed(rd_seed, True) # to get reproducible results"
   ]
  },
  {
   "cell_type": "code",
   "execution_count": 66,
   "metadata": {
    "gradient": {},
    "hidden": true
   },
   "outputs": [
    {
     "data": {
      "text/html": [],
      "text/plain": [
       "<IPython.core.display.HTML object>"
      ]
     },
     "metadata": {},
     "output_type": "display_data"
    },
    {
     "data": {
      "text/plain": [
       "SuggestedLRs(lr_min=0.00036307806149125097, lr_steep=0.0005754399462603033)"
      ]
     },
     "execution_count": 66,
     "metadata": {},
     "output_type": "execute_result"
    },
    {
     "data": {
      "image/png": "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\n",
      "text/plain": [
       "<Figure size 432x288 with 1 Axes>"
      ]
     },
     "metadata": {
      "needs_background": "light"
     },
     "output_type": "display_data"
    }
   ],
   "source": [
    "learn.lr_find() # find new learning rate for the overall model"
   ]
  },
  {
   "cell_type": "markdown",
   "metadata": {
    "hidden": true
   },
   "source": [
    "Training the overall model for a few more epochs with the new learning rate\n",
    "\n",
    "- Using a lower learning rate for the first layers of the network (1e-4):\n",
    "these layers cover more general image recognition concepts and do not need as much training\n",
    "\n",
    "- Using a higher learning rate for the later layers(1e-3):\n",
    "these layers need to learn features that are specific to the task at hand (skin disease recognition) and therefore need to train more.\n",
    "\n",
    "- The layers in-between will have a gradual learning rate between those values."
   ]
  },
  {
   "cell_type": "code",
   "execution_count": 67,
   "metadata": {
    "gradient": {},
    "hidden": true
   },
   "outputs": [],
   "source": [
    "set_seed(rd_seed, True) # to get reproducible results"
   ]
  },
  {
   "cell_type": "code",
   "execution_count": 68,
   "metadata": {
    "gradient": {},
    "hidden": true
   },
   "outputs": [
    {
     "data": {
      "text/html": [
       "<table border=\"1\" class=\"dataframe\">\n",
       "  <thead>\n",
       "    <tr style=\"text-align: left;\">\n",
       "      <th>epoch</th>\n",
       "      <th>train_loss</th>\n",
       "      <th>valid_loss</th>\n",
       "      <th>error_rate</th>\n",
       "      <th>time</th>\n",
       "    </tr>\n",
       "  </thead>\n",
       "  <tbody>\n",
       "    <tr>\n",
       "      <td>0</td>\n",
       "      <td>1.155577</td>\n",
       "      <td>0.852225</td>\n",
       "      <td>0.342342</td>\n",
       "      <td>00:08</td>\n",
       "    </tr>\n",
       "    <tr>\n",
       "      <td>1</td>\n",
       "      <td>0.947552</td>\n",
       "      <td>0.935325</td>\n",
       "      <td>0.333333</td>\n",
       "      <td>00:08</td>\n",
       "    </tr>\n",
       "    <tr>\n",
       "      <td>2</td>\n",
       "      <td>0.786916</td>\n",
       "      <td>0.757600</td>\n",
       "      <td>0.234234</td>\n",
       "      <td>00:08</td>\n",
       "    </tr>\n",
       "    <tr>\n",
       "      <td>3</td>\n",
       "      <td>0.665533</td>\n",
       "      <td>0.559983</td>\n",
       "      <td>0.180180</td>\n",
       "      <td>00:08</td>\n",
       "    </tr>\n",
       "    <tr>\n",
       "      <td>4</td>\n",
       "      <td>0.584919</td>\n",
       "      <td>0.487590</td>\n",
       "      <td>0.162162</td>\n",
       "      <td>00:08</td>\n",
       "    </tr>\n",
       "    <tr>\n",
       "      <td>5</td>\n",
       "      <td>0.519202</td>\n",
       "      <td>0.454914</td>\n",
       "      <td>0.153153</td>\n",
       "      <td>00:08</td>\n",
       "    </tr>\n",
       "  </tbody>\n",
       "</table>"
      ],
      "text/plain": [
       "<IPython.core.display.HTML object>"
      ]
     },
     "metadata": {},
     "output_type": "display_data"
    }
   ],
   "source": [
    "learn.fit_one_cycle(6, lr_max=slice(1e-4,\n",
    "                                    1e-3))"
   ]
  },
  {
   "cell_type": "code",
   "execution_count": 69,
   "metadata": {
    "gradient": {},
    "hidden": true
   },
   "outputs": [
    {
     "data": {
      "image/png": "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\n",
      "text/plain": [
       "<Figure size 432x288 with 1 Axes>"
      ]
     },
     "metadata": {
      "needs_background": "light"
     },
     "output_type": "display_data"
    }
   ],
   "source": [
    "# displaying training and validation loss\n",
    "learn.recorder.plot_loss()"
   ]
  },
  {
   "cell_type": "markdown",
   "metadata": {
    "hidden": true
   },
   "source": [
    "The model reaches an accuracy of accuracy of 0.85 (calculated as 1 - error rate of 0.15).\n",
    "\n",
    "In trials with more epochs, the training and validation loss were increasing again and the accuracy decreasing. So the training was ended here. Not training for too many epochs prevents overfitting of the model on the training data."
   ]
  },
  {
   "cell_type": "markdown",
   "metadata": {
    "heading_collapsed": true
   },
   "source": [
    "## Evaluation of the model <a name=\"eval\"></a>"
   ]
  },
  {
   "cell_type": "markdown",
   "metadata": {
    "heading_collapsed": true,
    "hidden": true
   },
   "source": [
    "### Evaluation on the validation set"
   ]
  },
  {
   "cell_type": "code",
   "execution_count": 70,
   "metadata": {
    "gradient": {},
    "hidden": true
   },
   "outputs": [
    {
     "data": {
      "text/html": [],
      "text/plain": [
       "<IPython.core.display.HTML object>"
      ]
     },
     "metadata": {},
     "output_type": "display_data"
    },
    {
     "data": {
      "image/png": "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\n",
      "text/plain": [
       "<Figure size 648x216 with 3 Axes>"
      ]
     },
     "metadata": {
      "needs_background": "light"
     },
     "output_type": "display_data"
    }
   ],
   "source": [
    "# displaying a few images with predictions and actual labels\n",
    "learn.show_results(max_n=3)"
   ]
  },
  {
   "cell_type": "code",
   "execution_count": 71,
   "metadata": {
    "gradient": {},
    "hidden": true,
    "scrolled": true
   },
   "outputs": [
    {
     "data": {
      "text/html": [],
      "text/plain": [
       "<IPython.core.display.HTML object>"
      ]
     },
     "metadata": {},
     "output_type": "display_data"
    },
    {
     "data": {
      "image/png": "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\n",
      "text/plain": [
       "<Figure size 432x288 with 1 Axes>"
      ]
     },
     "metadata": {
      "needs_background": "light"
     },
     "output_type": "display_data"
    }
   ],
   "source": [
    "# displaying the confusion matrix\n",
    "interpretation = ClassificationInterpretation.from_learner(learn)\n",
    "interpretation.plot_confusion_matrix()"
   ]
  },
  {
   "cell_type": "code",
   "execution_count": 72,
   "metadata": {
    "gradient": {},
    "hidden": true,
    "scrolled": true
   },
   "outputs": [
    {
     "data": {
      "image/png": "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\n",
      "text/plain": [
       "<Figure size 216x1080 with 5 Axes>"
      ]
     },
     "metadata": {
      "needs_background": "light"
     },
     "output_type": "display_data"
    }
   ],
   "source": [
    "# demonstrating cases with wrong predictions\n",
    "interpretation.plot_top_losses(5, nrows=5)"
   ]
  },
  {
   "cell_type": "code",
   "execution_count": 73,
   "metadata": {
    "code_folding": [
     0
    ],
    "gradient": {},
    "hidden": true
   },
   "outputs": [
    {
     "data": {
      "text/html": [
       "<div>\n",
       "<style scoped>\n",
       "    .dataframe tbody tr th:only-of-type {\n",
       "        vertical-align: middle;\n",
       "    }\n",
       "\n",
       "    .dataframe tbody tr th {\n",
       "        vertical-align: top;\n",
       "    }\n",
       "\n",
       "    .dataframe thead th {\n",
       "        text-align: right;\n",
       "    }\n",
       "</style>\n",
       "<table border=\"1\" class=\"dataframe\">\n",
       "  <thead>\n",
       "    <tr style=\"text-align: right;\">\n",
       "      <th></th>\n",
       "      <th>erysipelas</th>\n",
       "      <th>erythema_migrans</th>\n",
       "      <th>tinea_corporis</th>\n",
       "      <th>urticaria</th>\n",
       "      <th>micro-average</th>\n",
       "    </tr>\n",
       "  </thead>\n",
       "  <tbody>\n",
       "    <tr>\n",
       "      <th>accuracy</th>\n",
       "      <td>0.927928</td>\n",
       "      <td>0.927928</td>\n",
       "      <td>0.909910</td>\n",
       "      <td>0.927928</td>\n",
       "      <td>0.923423</td>\n",
       "    </tr>\n",
       "    <tr>\n",
       "      <th>precision</th>\n",
       "      <td>0.837838</td>\n",
       "      <td>0.863636</td>\n",
       "      <td>0.785714</td>\n",
       "      <td>0.916667</td>\n",
       "      <td>0.846847</td>\n",
       "    </tr>\n",
       "    <tr>\n",
       "      <th>recall</th>\n",
       "      <td>0.939394</td>\n",
       "      <td>0.791667</td>\n",
       "      <td>0.846154</td>\n",
       "      <td>0.785714</td>\n",
       "      <td>0.846847</td>\n",
       "    </tr>\n",
       "    <tr>\n",
       "      <th>sensitivity</th>\n",
       "      <td>0.939394</td>\n",
       "      <td>0.791667</td>\n",
       "      <td>0.846154</td>\n",
       "      <td>0.785714</td>\n",
       "      <td>0.846847</td>\n",
       "    </tr>\n",
       "    <tr>\n",
       "      <th>specificity</th>\n",
       "      <td>0.923077</td>\n",
       "      <td>0.965517</td>\n",
       "      <td>0.929412</td>\n",
       "      <td>0.975904</td>\n",
       "      <td>0.948949</td>\n",
       "    </tr>\n",
       "  </tbody>\n",
       "</table>\n",
       "</div>"
      ],
      "text/plain": [
       "             erysipelas  erythema_migrans  tinea_corporis  urticaria  \\\n",
       "accuracy       0.927928          0.927928        0.909910   0.927928   \n",
       "precision      0.837838          0.863636        0.785714   0.916667   \n",
       "recall         0.939394          0.791667        0.846154   0.785714   \n",
       "sensitivity    0.939394          0.791667        0.846154   0.785714   \n",
       "specificity    0.923077          0.965517        0.929412   0.975904   \n",
       "\n",
       "             micro-average  \n",
       "accuracy          0.923423  \n",
       "precision         0.846847  \n",
       "recall            0.846847  \n",
       "sensitivity       0.846847  \n",
       "specificity       0.948949  "
      ]
     },
     "execution_count": 73,
     "metadata": {},
     "output_type": "execute_result"
    }
   ],
   "source": [
    "# other metrics of the classifier model\n",
    "\n",
    "conf_matrix = interpretation.confusion_matrix()\n",
    "conf_matrix_df = pd.DataFrame(conf_matrix, dtype=int, index=dls.vocab, columns=dls.vocab)\n",
    "conf_matrix_df.da.export_metrics(metrics_to_include=['accuracy', 'precision', 'recall', 'sensitivity', 'specificity'])"
   ]
  },
  {
   "cell_type": "markdown",
   "metadata": {
    "hidden": true
   },
   "source": [
    "**Evaluation of metrics with focus on erythema migrans:**\n",
    "\n",
    "Accuracy:<br>\n",
    "The model has a decent accuracy of 0.85 overall on the validation set (1 - error_rate). This means that 85% of all classifications were correct.\n",
    "\n",
    "Recall/Sensitivity:<br>\n",
    "Recall/Sensitivity describes the percentage of true positives that are detected by the model (Géron 2020). This metric is used in cases when it is necessary to recognize all positives (e.g. for screening in medicine, like in this case). \n",
    "Regarding the recognition of erythema migrans, a recall/sensitivity of 0.79 indicates that 79% of EM cases were detected by the model. Phrased differently, 4 out of 5 erythema migrans are recognized by the model.<br>\n",
    "From the other categories, erysipelas has a relatively high sensitivity of 94%. This is important, as it is also a disease that needs timely antibiotic therapy in order to avoid complicated courses and further damages.\n",
    "\n",
    "Precision:<br>\n",
    "Precision describes the precentage of predicted positives that are truly positive. It is oppositely related to sensitivity: when precision rises, sensitivity decreases and vice versa (Géron 2020). Precision is useful in cases when a lot of certainty is needed for taking actions and when we want to avoud making false diagnoses. Overall, when the model predicted an erythema migrans, 86% of these predictions were true. As the model is supposed to be used in a screening scenario, a higher false-positive rate is accepted in favor of detecting as many positives as possible. From a medical perspective, false-negative predictions would have graver consequences than false-positive predictions. The screened individuals would visit a medical practice for confirmation in the next step, before receiving treatment.\n",
    "\n",
    "Specificity:<br>\n",
    "Specificity describes the true-negative rate. For erythema migrans, it is 97%. This means that in 97% of cases, people that did not have an erythema migrans, were also classified as not having an erythema migrans. 3% received the diagnosis, without having an erythema migrans."
   ]
  },
  {
   "cell_type": "markdown",
   "metadata": {
    "hidden": true
   },
   "source": [
    "Saving the model"
   ]
  },
  {
   "cell_type": "code",
   "execution_count": 75,
   "metadata": {
    "hidden": true
   },
   "outputs": [],
   "source": [
    "# saving both the architecture and the trained parameters of the model\n",
    "#learn.export()"
   ]
  },
  {
   "cell_type": "markdown",
   "metadata": {
    "hidden": true
   },
   "source": [
    "Training a model with a deeper architecture (e.g. 34 layers) did not yield improved results. Hence, the simpler architecture with 18 layers was kept."
   ]
  },
  {
   "cell_type": "markdown",
   "metadata": {
    "heading_collapsed": true,
    "hidden": true
   },
   "source": [
    "### Evaluation on the test set"
   ]
  },
  {
   "cell_type": "code",
   "execution_count": 9,
   "metadata": {
    "gradient": {},
    "hidden": true
   },
   "outputs": [],
   "source": [
    "# loading the model\n",
    "path = Path()\n",
    "learn_inf = load_learner(path/'export.pkl')"
   ]
  },
  {
   "cell_type": "code",
   "execution_count": 10,
   "metadata": {
    "gradient": {},
    "hidden": true
   },
   "outputs": [],
   "source": [
    "# getting the test set images\n",
    "tst_files = get_image_files(path/\"rash_train_test/test\")"
   ]
  },
  {
   "cell_type": "code",
   "execution_count": 11,
   "metadata": {
    "hidden": true
   },
   "outputs": [
    {
     "data": {
      "text/plain": [
       "64"
      ]
     },
     "execution_count": 11,
     "metadata": {},
     "output_type": "execute_result"
    }
   ],
   "source": [
    "len(tst_files)"
   ]
  },
  {
   "cell_type": "code",
   "execution_count": 12,
   "metadata": {
    "hidden": true
   },
   "outputs": [],
   "source": [
    "# creating a data loaders with the test set\n",
    "tst_dl = learn_inf.dls.test_dl(tst_files, with_labels=True)"
   ]
  },
  {
   "cell_type": "code",
   "execution_count": 13,
   "metadata": {
    "hidden": true
   },
   "outputs": [
    {
     "data": {
      "image/png": "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\n",
      "text/plain": [
       "<Figure size 648x216 with 3 Axes>"
      ]
     },
     "metadata": {
      "needs_background": "light"
     },
     "output_type": "display_data"
    }
   ],
   "source": [
    "tst_dl.show_batch(max_n=3)"
   ]
  },
  {
   "cell_type": "code",
   "execution_count": 14,
   "metadata": {
    "hidden": true
   },
   "outputs": [
    {
     "data": {
      "text/html": [],
      "text/plain": [
       "<IPython.core.display.HTML object>"
      ]
     },
     "metadata": {},
     "output_type": "display_data"
    }
   ],
   "source": [
    "preds = learn_inf.get_preds(dl=tst_dl)"
   ]
  },
  {
   "cell_type": "code",
   "execution_count": 1,
   "metadata": {
    "hidden": true
   },
   "outputs": [],
   "source": [
    "#preds"
   ]
  },
  {
   "cell_type": "code",
   "execution_count": 17,
   "metadata": {
    "hidden": true
   },
   "outputs": [
    {
     "data": {
      "text/plain": [
       "TensorBase(0.8125)"
      ]
     },
     "execution_count": 17,
     "metadata": {},
     "output_type": "execute_result"
    }
   ],
   "source": [
    "accuracy(preds[0], preds[1])"
   ]
  },
  {
   "cell_type": "markdown",
   "metadata": {
    "hidden": true
   },
   "source": [
    "The model has an accuracy of 0.81 on the test set. This is close to, but a little lower than the accuracy on the validation set (0.85)."
   ]
  },
  {
   "cell_type": "markdown",
   "metadata": {
    "heading_collapsed": true
   },
   "source": [
    "## Predictions <a name=\"predictions\"></a>"
   ]
  },
  {
   "cell_type": "code",
   "execution_count": 6,
   "metadata": {
    "code_folding": [],
    "hidden": true
   },
   "outputs": [],
   "source": [
    "# using IPython widgets as demonstrated in Chapter 2 of (Howard, Gugger 2020)\n",
    "out_pl = widgets.Output()\n",
    "lbl_pred = widgets.Label()\n",
    "btn_run = widgets.Button(description='Classify')\n",
    "btn_upload = widgets.FileUpload()"
   ]
  },
  {
   "cell_type": "code",
   "execution_count": null,
   "metadata": {
    "hidden": true
   },
   "outputs": [],
   "source": [
    "path = Path()\n",
    "learn_inf = load_learner(path/'export.pkl')"
   ]
  },
  {
   "cell_type": "code",
   "execution_count": null,
   "metadata": {
    "code_folding": [
     0
    ],
    "hidden": true
   },
   "outputs": [],
   "source": [
    "def on_click_classify(change):\n",
    "    img = PILImage.create(btn_upload.data[-1])\n",
    "    out_pl.clear_output()\n",
    "    with out_pl: display(img.to_thumb(128,128))\n",
    "    pred,pred_idx,probs = learn_inf.predict(img)\n",
    "    lbl_pred.value = f'Prediction: {pred}; Probability: {probs[pred_idx]:.0%}'\n",
    "\n",
    "btn_run.on_click(on_click_classify)"
   ]
  },
  {
   "cell_type": "code",
   "execution_count": null,
   "metadata": {
    "code_folding": [
     0
    ],
    "hidden": true
   },
   "outputs": [],
   "source": [
    "VBox([widgets.Label('Please upload an image'), \n",
    "      btn_upload, btn_run, out_pl, lbl_pred])"
   ]
  },
  {
   "cell_type": "markdown",
   "metadata": {
    "heading_collapsed": true
   },
   "source": [
    "## Limitations <a name=\"limitations\"></a>"
   ]
  },
  {
   "cell_type": "markdown",
   "metadata": {
    "hidden": true
   },
   "source": [
    "- The dataset is the result of web scraping images from the internet. The images may not all be assigned the correct diagnosis. However, this effect was minimized by screening the images manually by the author. In unclear cases, an image search was performed to check the source and context of the image in question.\n",
    "- There is an uneven distribution of images among the groups. This may have had an effect when training the classifier.\n",
    "- A bigger dataset would be desirable, espcially with image recognition tasks like this.\n",
    "- People of color are not represented sufficiently. Only very few images are in the dataset. To provide an accurate diagnosis regardless of skin color, more images from all ethnic groups should be included.\n",
    "- The dataset mainly includes \"classic\" stereotypic images of the skin diseases. More unclear or atypic cases may not be shown in a search on the internet and would need to be added. Variations of the norm or super-infected cases may not be recognized or classified incorrectly in the current model.\n",
    "- A location at the lower leg may indicate to the model that the disease is erysipelas, which is often located at the lower leg. This may influence the model or be a giveaway of the diagnosis.\n",
    "- It would be necessary to add a category \"other\" for those images that do not match any of the four categories.\n",
    "- The images are cropped for training the model (the entire width or height of image are selected and the crop area chosen randomly). Hence, some important information may be cut off by this and lost for training the model.\n",
    "\n",
    "**In order to make a diagnosis in a medical context, further clinical data should be considered, for example:**\n",
    "- Did the patient spend time outdoors in the woods or in nature?\n",
    "- Is it the season for tick bites?\n",
    "- Is the region known for a high incidence of borreliosis?\n",
    "- Did the patient show any other symptoms?\n",
    "- in cases of atypic erythema, serology testing for borrelia may be necessary"
   ]
  },
  {
   "cell_type": "markdown",
   "metadata": {
    "heading_collapsed": true
   },
   "source": [
    "## Conclusion <a name=\"conclusion\"></a>"
   ]
  },
  {
   "cell_type": "markdown",
   "metadata": {
    "hidden": true
   },
   "source": [
    "It is important to recognize an erythema migrans at an early stage in order to start antibiotic treatment timely and to avoid long-term consequences. Distinguishing the diagnosis from similar-looking skin diseases may be difficult, especially for people without a medical background.\n",
    "\n",
    "The model developed in this project was able to classify 81-85% of skin disease images correctly (accuracy of 0.81 on the test set and 0.85 on the validation set).\n",
    "As 79% of cases with erythema migrans were detected by the model (sensitivity), it could serve as a first screening stage if medical services are not readily avaible, but with caution. It is not realiable enough yet to trust its predictions solely. The inspection of a general practioner is still needed to avoid overlooking an erythema migrans or making a false diagnosis. If on weekends, people should still refer to an emergency practice in any case to confirm the diagnosis and to receive adequate treatment if necessary.\n",
    "\n",
    "More training data is needed to improve the model and atypic forms also need to be covered so that, a model like this can be implemented for use in healthcare in the future. It could help so that more individuals affected by the disease are recognized and long-term complications due to borreliosis avoided through timely detection and treatment.",
    "\n",
    "Note: This model is not intended for medical use in practice.",
   ]
  },
  {
   "cell_type": "markdown",
   "metadata": {
    "heading_collapsed": true
   },
   "source": [
    "## Bibliography <a name=\"bibliography\"></a>"
   ]
  },
  {
   "cell_type": "markdown",
   "metadata": {
    "hidden": true
   },
   "source": [
    "- fast.ai (2021): Practical Deep Learning for Coders, https://course.fast.ai/, last access 05.06.2021.\n",
    "- Géron, Aurélien(2020): Praxiseinstieg Machine Learning mit Scikit-Learn, Keras und TensorFlow: Konzepte, Tools und Techniken für intelligente Systeme (Aktuell zu TensorFlow 2). Deutschland, Dpunkt.Verlag GmbH.\n",
    "- Howard, Jeremy; Sylvain Gugger (2020): Deep Learning for Coders with fastai and PyTorch. O'Reilly Media.\n",
    "- IMD Labor Berlin (2018): Borreliose - Klinik und Diagnostik. Diagnostikinformation 272, Version 5. Available from: https://www.imd-berlin.de/fileadmin/user_upload/Diag_Info/272_Borreliose_Klinik_Diagnostik.pdf, last access 29.05.2021.\n",
    "- Li, Hu (2016): A divide and conquer approach for imbalanced multi-class classification and its application to medical decision making. Pakistan journal of pharmaceutical sciences 29.\n",
    "- Robert Koch Institut (2019): Lyme-Borreliose. RKI-Ratgeber. Available from https://www.rki.de/DE/Content/Infekt/EpidBull/Merkblaetter/Ratgeber_LymeBorreliose.html, last access 30.05.2021.\n",
    "- Robert Koch Institut (2020): Antworten auf häufig gestellte Fragen zu Zecken, Zeckenstich, Infektion. Stand: 10.6.2020. Available from: https://www.rki.de/SharedDocs/FAQ/FSME/Zecken/Zecken.html, last access 05.06.2021."
   ]
  }
 ],
 "metadata": {
  "kernelspec": {
   "display_name": "Python 3",
   "language": "python",
   "name": "python3"
  },
  "language_info": {
   "codemirror_mode": {
    "name": "ipython",
    "version": 3
   },
   "file_extension": ".py",
   "mimetype": "text/x-python",
   "name": "python",
   "nbconvert_exporter": "python",
   "pygments_lexer": "ipython3",
   "version": "3.7.6"
  }
 },
 "nbformat": 4,
 "nbformat_minor": 4
}
